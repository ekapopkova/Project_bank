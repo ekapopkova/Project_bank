{
 "cells": [
  {
   "cell_type": "markdown",
   "id": "6ec80bdd",
   "metadata": {},
   "source": [
    "# Проект - Отток клиентов.\n",
    "\n",
    "Из «Бета-Банка» стали уходить клиенты. Каждый месяц. Немного, но заметно. Банковские маркетологи посчитали: сохранять текущих клиентов дешевле, чем привлекать новых.\n",
    "\n",
    "Нужно спрогнозировать, уйдёт клиент из банка в ближайшее время или нет. Вам предоставлены исторические данные о поведении клиентов и расторжении договоров с банком.\n",
    "\n",
    "Постройте модель с предельно большим значением F1-меры. Чтобы сдать проект успешно, нужно довести метрику до 0.59. Проверьте F1-меру на тестовой выборке самостоятельно.\n",
    "\n",
    "Дополнительно измеряйте AUC-ROC, сравнивайте её значение с F1-мерой.\n",
    "\n",
    "**Описание данных**\n",
    "\n",
    "Данные находятся в файле /datasets/Churn.csv (англ. «отток клиентов»). \n",
    "\n",
    "**Признаки**\n",
    "\n",
    "RowNumber — индекс строки в данных\n",
    "\n",
    "CustomerId — уникальный идентификатор клиента\n",
    "\n",
    "Surname — фамилия\n",
    "\n",
    "CreditScore — кредитный рейтинг\n",
    "\n",
    "Geography — страна проживания\n",
    "\n",
    "Gender — пол\n",
    "\n",
    "Age — возраст\n",
    "\n",
    "Tenure — сколько лет человек является клиентом банка\n",
    "\n",
    "Balance — баланс на счёте\n",
    "\n",
    "NumOfProducts — количество продуктов банка, используемых клиентом\n",
    "\n",
    "HasCrCard — наличие кредитной карты\n",
    "\n",
    "IsActiveMember — активность клиента\n",
    "\n",
    "EstimatedSalary — предполагаемая зарплата\n",
    "\n",
    "**Целевой признак**\n",
    "\n",
    "Exited — факт ухода клиента"
   ]
  },
  {
   "cell_type": "markdown",
   "id": "973365eb",
   "metadata": {},
   "source": [
    "## Подготовка данных"
   ]
  },
  {
   "cell_type": "code",
   "execution_count": 1,
   "id": "fbb0932e",
   "metadata": {},
   "outputs": [],
   "source": [
    "import pandas as pd\n",
    "from sklearn.model_selection import train_test_split\n",
    "from sklearn.preprocessing import StandardScaler\n",
    "from sklearn.linear_model import LogisticRegression\n",
    "from sklearn.metrics import f1_score, roc_auc_score, recall_score\n",
    "from sklearn.tree import DecisionTreeClassifier\n",
    "from sklearn.ensemble import RandomForestClassifier\n",
    "from sklearn.utils import shuffle"
   ]
  },
  {
   "cell_type": "markdown",
   "id": "0bf1b4ca",
   "metadata": {},
   "source": [
    "### Cчитываем данные из файла и сохраняем их в переменную df, получаем общую информацию о датафрейме методом info() и выводим первые 5 строк датафрейма, с помощью посторения гистограм получаем инфоормацию о распределении данных в столбцах."
   ]
  },
  {
   "cell_type": "code",
   "execution_count": 2,
   "id": "9a16d1be",
   "metadata": {},
   "outputs": [
    {
     "data": {
      "text/html": [
       "<div>\n",
       "<style scoped>\n",
       "    .dataframe tbody tr th:only-of-type {\n",
       "        vertical-align: middle;\n",
       "    }\n",
       "\n",
       "    .dataframe tbody tr th {\n",
       "        vertical-align: top;\n",
       "    }\n",
       "\n",
       "    .dataframe thead th {\n",
       "        text-align: right;\n",
       "    }\n",
       "</style>\n",
       "<table border=\"1\" class=\"dataframe\">\n",
       "  <thead>\n",
       "    <tr style=\"text-align: right;\">\n",
       "      <th></th>\n",
       "      <th>RowNumber</th>\n",
       "      <th>CustomerId</th>\n",
       "      <th>Surname</th>\n",
       "      <th>CreditScore</th>\n",
       "      <th>Geography</th>\n",
       "      <th>Gender</th>\n",
       "      <th>Age</th>\n",
       "      <th>Tenure</th>\n",
       "      <th>Balance</th>\n",
       "      <th>NumOfProducts</th>\n",
       "      <th>HasCrCard</th>\n",
       "      <th>IsActiveMember</th>\n",
       "      <th>EstimatedSalary</th>\n",
       "      <th>Exited</th>\n",
       "    </tr>\n",
       "  </thead>\n",
       "  <tbody>\n",
       "    <tr>\n",
       "      <th>0</th>\n",
       "      <td>1</td>\n",
       "      <td>15634602</td>\n",
       "      <td>Hargrave</td>\n",
       "      <td>619</td>\n",
       "      <td>France</td>\n",
       "      <td>Female</td>\n",
       "      <td>42</td>\n",
       "      <td>2.0</td>\n",
       "      <td>0.00</td>\n",
       "      <td>1</td>\n",
       "      <td>1</td>\n",
       "      <td>1</td>\n",
       "      <td>101348.88</td>\n",
       "      <td>1</td>\n",
       "    </tr>\n",
       "    <tr>\n",
       "      <th>1</th>\n",
       "      <td>2</td>\n",
       "      <td>15647311</td>\n",
       "      <td>Hill</td>\n",
       "      <td>608</td>\n",
       "      <td>Spain</td>\n",
       "      <td>Female</td>\n",
       "      <td>41</td>\n",
       "      <td>1.0</td>\n",
       "      <td>83807.86</td>\n",
       "      <td>1</td>\n",
       "      <td>0</td>\n",
       "      <td>1</td>\n",
       "      <td>112542.58</td>\n",
       "      <td>0</td>\n",
       "    </tr>\n",
       "    <tr>\n",
       "      <th>2</th>\n",
       "      <td>3</td>\n",
       "      <td>15619304</td>\n",
       "      <td>Onio</td>\n",
       "      <td>502</td>\n",
       "      <td>France</td>\n",
       "      <td>Female</td>\n",
       "      <td>42</td>\n",
       "      <td>8.0</td>\n",
       "      <td>159660.80</td>\n",
       "      <td>3</td>\n",
       "      <td>1</td>\n",
       "      <td>0</td>\n",
       "      <td>113931.57</td>\n",
       "      <td>1</td>\n",
       "    </tr>\n",
       "    <tr>\n",
       "      <th>3</th>\n",
       "      <td>4</td>\n",
       "      <td>15701354</td>\n",
       "      <td>Boni</td>\n",
       "      <td>699</td>\n",
       "      <td>France</td>\n",
       "      <td>Female</td>\n",
       "      <td>39</td>\n",
       "      <td>1.0</td>\n",
       "      <td>0.00</td>\n",
       "      <td>2</td>\n",
       "      <td>0</td>\n",
       "      <td>0</td>\n",
       "      <td>93826.63</td>\n",
       "      <td>0</td>\n",
       "    </tr>\n",
       "    <tr>\n",
       "      <th>4</th>\n",
       "      <td>5</td>\n",
       "      <td>15737888</td>\n",
       "      <td>Mitchell</td>\n",
       "      <td>850</td>\n",
       "      <td>Spain</td>\n",
       "      <td>Female</td>\n",
       "      <td>43</td>\n",
       "      <td>2.0</td>\n",
       "      <td>125510.82</td>\n",
       "      <td>1</td>\n",
       "      <td>1</td>\n",
       "      <td>1</td>\n",
       "      <td>79084.10</td>\n",
       "      <td>0</td>\n",
       "    </tr>\n",
       "  </tbody>\n",
       "</table>\n",
       "</div>"
      ],
      "text/plain": [
       "   RowNumber  CustomerId   Surname  CreditScore Geography  Gender  Age  \\\n",
       "0          1    15634602  Hargrave          619    France  Female   42   \n",
       "1          2    15647311      Hill          608     Spain  Female   41   \n",
       "2          3    15619304      Onio          502    France  Female   42   \n",
       "3          4    15701354      Boni          699    France  Female   39   \n",
       "4          5    15737888  Mitchell          850     Spain  Female   43   \n",
       "\n",
       "   Tenure    Balance  NumOfProducts  HasCrCard  IsActiveMember  \\\n",
       "0     2.0       0.00              1          1               1   \n",
       "1     1.0   83807.86              1          0               1   \n",
       "2     8.0  159660.80              3          1               0   \n",
       "3     1.0       0.00              2          0               0   \n",
       "4     2.0  125510.82              1          1               1   \n",
       "\n",
       "   EstimatedSalary  Exited  \n",
       "0        101348.88       1  \n",
       "1        112542.58       0  \n",
       "2        113931.57       1  \n",
       "3         93826.63       0  \n",
       "4         79084.10       0  "
      ]
     },
     "execution_count": 2,
     "metadata": {},
     "output_type": "execute_result"
    }
   ],
   "source": [
    "#df = pd.read_csv('D:\\Мои Документы\\Desktop\\Материалы по учебе\\Обучение с учителем\\Churn.csv')\n",
    "df = pd.read_csv('/datasets/Churn.csv')\n",
    "df.head()"
   ]
  },
  {
   "cell_type": "code",
   "execution_count": 3,
   "id": "4ebfa96e",
   "metadata": {},
   "outputs": [
    {
     "name": "stdout",
     "output_type": "stream",
     "text": [
      "<class 'pandas.core.frame.DataFrame'>\n",
      "RangeIndex: 10000 entries, 0 to 9999\n",
      "Data columns (total 14 columns):\n",
      " #   Column           Non-Null Count  Dtype  \n",
      "---  ------           --------------  -----  \n",
      " 0   RowNumber        10000 non-null  int64  \n",
      " 1   CustomerId       10000 non-null  int64  \n",
      " 2   Surname          10000 non-null  object \n",
      " 3   CreditScore      10000 non-null  int64  \n",
      " 4   Geography        10000 non-null  object \n",
      " 5   Gender           10000 non-null  object \n",
      " 6   Age              10000 non-null  int64  \n",
      " 7   Tenure           9091 non-null   float64\n",
      " 8   Balance          10000 non-null  float64\n",
      " 9   NumOfProducts    10000 non-null  int64  \n",
      " 10  HasCrCard        10000 non-null  int64  \n",
      " 11  IsActiveMember   10000 non-null  int64  \n",
      " 12  EstimatedSalary  10000 non-null  float64\n",
      " 13  Exited           10000 non-null  int64  \n",
      "dtypes: float64(3), int64(8), object(3)\n",
      "memory usage: 1.1+ MB\n"
     ]
    }
   ],
   "source": [
    "df.info()"
   ]
  },
  {
   "cell_type": "code",
   "execution_count": 4,
   "id": "d05f2e20",
   "metadata": {},
   "outputs": [
    {
     "data": {
      "image/png": "[encoded data removed]",
      "text/plain": [
       "<Figure size 576x576 with 9 Axes>"
      ]
     },
     "metadata": {
      "needs_background": "light"
     },
     "output_type": "display_data"
    }
   ],
   "source": [
    "df[['CreditScore', 'Age', 'Tenure','Balance',  'HasCrCard','NumOfProducts','IsActiveMember',\n",
    "   'EstimatedSalary', 'Exited']].hist(figsize=(8, 8));"
   ]
  },
  {
   "cell_type": "code",
   "execution_count": 5,
   "id": "37a5e2e0",
   "metadata": {},
   "outputs": [
    {
     "data": {
      "text/html": [
       "<div>\n",
       "<style scoped>\n",
       "    .dataframe tbody tr th:only-of-type {\n",
       "        vertical-align: middle;\n",
       "    }\n",
       "\n",
       "    .dataframe tbody tr th {\n",
       "        vertical-align: top;\n",
       "    }\n",
       "\n",
       "    .dataframe thead th {\n",
       "        text-align: right;\n",
       "    }\n",
       "</style>\n",
       "<table border=\"1\" class=\"dataframe\">\n",
       "  <thead>\n",
       "    <tr style=\"text-align: right;\">\n",
       "      <th></th>\n",
       "      <th>RowNumber</th>\n",
       "      <th>CustomerId</th>\n",
       "      <th>Surname</th>\n",
       "      <th>CreditScore</th>\n",
       "      <th>Geography</th>\n",
       "      <th>Gender</th>\n",
       "      <th>Age</th>\n",
       "      <th>Tenure</th>\n",
       "      <th>Balance</th>\n",
       "      <th>NumOfProducts</th>\n",
       "      <th>HasCrCard</th>\n",
       "      <th>IsActiveMember</th>\n",
       "      <th>EstimatedSalary</th>\n",
       "      <th>Exited</th>\n",
       "    </tr>\n",
       "  </thead>\n",
       "  <tbody>\n",
       "    <tr>\n",
       "      <th>30</th>\n",
       "      <td>31</td>\n",
       "      <td>15589475</td>\n",
       "      <td>Azikiwe</td>\n",
       "      <td>591</td>\n",
       "      <td>Spain</td>\n",
       "      <td>Female</td>\n",
       "      <td>39</td>\n",
       "      <td>NaN</td>\n",
       "      <td>0.00</td>\n",
       "      <td>3</td>\n",
       "      <td>1</td>\n",
       "      <td>0</td>\n",
       "      <td>140469.38</td>\n",
       "      <td>1</td>\n",
       "    </tr>\n",
       "    <tr>\n",
       "      <th>48</th>\n",
       "      <td>49</td>\n",
       "      <td>15766205</td>\n",
       "      <td>Yin</td>\n",
       "      <td>550</td>\n",
       "      <td>Germany</td>\n",
       "      <td>Male</td>\n",
       "      <td>38</td>\n",
       "      <td>NaN</td>\n",
       "      <td>103391.38</td>\n",
       "      <td>1</td>\n",
       "      <td>0</td>\n",
       "      <td>1</td>\n",
       "      <td>90878.13</td>\n",
       "      <td>0</td>\n",
       "    </tr>\n",
       "    <tr>\n",
       "      <th>51</th>\n",
       "      <td>52</td>\n",
       "      <td>15768193</td>\n",
       "      <td>Trevisani</td>\n",
       "      <td>585</td>\n",
       "      <td>Germany</td>\n",
       "      <td>Male</td>\n",
       "      <td>36</td>\n",
       "      <td>NaN</td>\n",
       "      <td>146050.97</td>\n",
       "      <td>2</td>\n",
       "      <td>0</td>\n",
       "      <td>0</td>\n",
       "      <td>86424.57</td>\n",
       "      <td>0</td>\n",
       "    </tr>\n",
       "    <tr>\n",
       "      <th>53</th>\n",
       "      <td>54</td>\n",
       "      <td>15702298</td>\n",
       "      <td>Parkhill</td>\n",
       "      <td>655</td>\n",
       "      <td>Germany</td>\n",
       "      <td>Male</td>\n",
       "      <td>41</td>\n",
       "      <td>NaN</td>\n",
       "      <td>125561.97</td>\n",
       "      <td>1</td>\n",
       "      <td>0</td>\n",
       "      <td>0</td>\n",
       "      <td>164040.94</td>\n",
       "      <td>1</td>\n",
       "    </tr>\n",
       "    <tr>\n",
       "      <th>60</th>\n",
       "      <td>61</td>\n",
       "      <td>15651280</td>\n",
       "      <td>Hunter</td>\n",
       "      <td>742</td>\n",
       "      <td>Germany</td>\n",
       "      <td>Male</td>\n",
       "      <td>35</td>\n",
       "      <td>NaN</td>\n",
       "      <td>136857.00</td>\n",
       "      <td>1</td>\n",
       "      <td>0</td>\n",
       "      <td>0</td>\n",
       "      <td>84509.57</td>\n",
       "      <td>0</td>\n",
       "    </tr>\n",
       "    <tr>\n",
       "      <th>...</th>\n",
       "      <td>...</td>\n",
       "      <td>...</td>\n",
       "      <td>...</td>\n",
       "      <td>...</td>\n",
       "      <td>...</td>\n",
       "      <td>...</td>\n",
       "      <td>...</td>\n",
       "      <td>...</td>\n",
       "      <td>...</td>\n",
       "      <td>...</td>\n",
       "      <td>...</td>\n",
       "      <td>...</td>\n",
       "      <td>...</td>\n",
       "      <td>...</td>\n",
       "    </tr>\n",
       "    <tr>\n",
       "      <th>9944</th>\n",
       "      <td>9945</td>\n",
       "      <td>15703923</td>\n",
       "      <td>Cameron</td>\n",
       "      <td>744</td>\n",
       "      <td>Germany</td>\n",
       "      <td>Male</td>\n",
       "      <td>41</td>\n",
       "      <td>NaN</td>\n",
       "      <td>190409.34</td>\n",
       "      <td>2</td>\n",
       "      <td>1</td>\n",
       "      <td>1</td>\n",
       "      <td>138361.48</td>\n",
       "      <td>0</td>\n",
       "    </tr>\n",
       "    <tr>\n",
       "      <th>9956</th>\n",
       "      <td>9957</td>\n",
       "      <td>15707861</td>\n",
       "      <td>Nucci</td>\n",
       "      <td>520</td>\n",
       "      <td>France</td>\n",
       "      <td>Female</td>\n",
       "      <td>46</td>\n",
       "      <td>NaN</td>\n",
       "      <td>85216.61</td>\n",
       "      <td>1</td>\n",
       "      <td>1</td>\n",
       "      <td>0</td>\n",
       "      <td>117369.52</td>\n",
       "      <td>1</td>\n",
       "    </tr>\n",
       "    <tr>\n",
       "      <th>9964</th>\n",
       "      <td>9965</td>\n",
       "      <td>15642785</td>\n",
       "      <td>Douglas</td>\n",
       "      <td>479</td>\n",
       "      <td>France</td>\n",
       "      <td>Male</td>\n",
       "      <td>34</td>\n",
       "      <td>NaN</td>\n",
       "      <td>117593.48</td>\n",
       "      <td>2</td>\n",
       "      <td>0</td>\n",
       "      <td>0</td>\n",
       "      <td>113308.29</td>\n",
       "      <td>0</td>\n",
       "    </tr>\n",
       "    <tr>\n",
       "      <th>9985</th>\n",
       "      <td>9986</td>\n",
       "      <td>15586914</td>\n",
       "      <td>Nepean</td>\n",
       "      <td>659</td>\n",
       "      <td>France</td>\n",
       "      <td>Male</td>\n",
       "      <td>36</td>\n",
       "      <td>NaN</td>\n",
       "      <td>123841.49</td>\n",
       "      <td>2</td>\n",
       "      <td>1</td>\n",
       "      <td>0</td>\n",
       "      <td>96833.00</td>\n",
       "      <td>0</td>\n",
       "    </tr>\n",
       "    <tr>\n",
       "      <th>9999</th>\n",
       "      <td>10000</td>\n",
       "      <td>15628319</td>\n",
       "      <td>Walker</td>\n",
       "      <td>792</td>\n",
       "      <td>France</td>\n",
       "      <td>Female</td>\n",
       "      <td>28</td>\n",
       "      <td>NaN</td>\n",
       "      <td>130142.79</td>\n",
       "      <td>1</td>\n",
       "      <td>1</td>\n",
       "      <td>0</td>\n",
       "      <td>38190.78</td>\n",
       "      <td>0</td>\n",
       "    </tr>\n",
       "  </tbody>\n",
       "</table>\n",
       "<p>909 rows × 14 columns</p>\n",
       "</div>"
      ],
      "text/plain": [
       "      RowNumber  CustomerId    Surname  CreditScore Geography  Gender  Age  \\\n",
       "30           31    15589475    Azikiwe          591     Spain  Female   39   \n",
       "48           49    15766205        Yin          550   Germany    Male   38   \n",
       "51           52    15768193  Trevisani          585   Germany    Male   36   \n",
       "53           54    15702298   Parkhill          655   Germany    Male   41   \n",
       "60           61    15651280     Hunter          742   Germany    Male   35   \n",
       "...         ...         ...        ...          ...       ...     ...  ...   \n",
       "9944       9945    15703923    Cameron          744   Germany    Male   41   \n",
       "9956       9957    15707861      Nucci          520    France  Female   46   \n",
       "9964       9965    15642785    Douglas          479    France    Male   34   \n",
       "9985       9986    15586914     Nepean          659    France    Male   36   \n",
       "9999      10000    15628319     Walker          792    France  Female   28   \n",
       "\n",
       "      Tenure    Balance  NumOfProducts  HasCrCard  IsActiveMember  \\\n",
       "30       NaN       0.00              3          1               0   \n",
       "48       NaN  103391.38              1          0               1   \n",
       "51       NaN  146050.97              2          0               0   \n",
       "53       NaN  125561.97              1          0               0   \n",
       "60       NaN  136857.00              1          0               0   \n",
       "...      ...        ...            ...        ...             ...   \n",
       "9944     NaN  190409.34              2          1               1   \n",
       "9956     NaN   85216.61              1          1               0   \n",
       "9964     NaN  117593.48              2          0               0   \n",
       "9985     NaN  123841.49              2          1               0   \n",
       "9999     NaN  130142.79              1          1               0   \n",
       "\n",
       "      EstimatedSalary  Exited  \n",
       "30          140469.38       1  \n",
       "48           90878.13       0  \n",
       "51           86424.57       0  \n",
       "53          164040.94       1  \n",
       "60           84509.57       0  \n",
       "...               ...     ...  \n",
       "9944        138361.48       0  \n",
       "9956        117369.52       1  \n",
       "9964        113308.29       0  \n",
       "9985         96833.00       0  \n",
       "9999         38190.78       0  \n",
       "\n",
       "[909 rows x 14 columns]"
      ]
     },
     "execution_count": 5,
     "metadata": {},
     "output_type": "execute_result"
    }
   ],
   "source": [
    "df.query('Tenure.isna()')"
   ]
  },
  {
   "cell_type": "code",
   "execution_count": 6,
   "id": "bc004191",
   "metadata": {},
   "outputs": [
    {
     "data": {
      "text/plain": [
       "5.022246787342822"
      ]
     },
     "execution_count": 6,
     "metadata": {},
     "output_type": "execute_result"
    }
   ],
   "source": [
    "df.query('Exited == 0')['Tenure'].mean()"
   ]
  },
  {
   "cell_type": "code",
   "execution_count": 7,
   "id": "d4dd6ce1",
   "metadata": {},
   "outputs": [
    {
     "data": {
      "text/plain": [
       "4.901833872707659"
      ]
     },
     "execution_count": 7,
     "metadata": {},
     "output_type": "execute_result"
    }
   ],
   "source": [
    "df.query('Exited == 1')['Tenure'].mean()"
   ]
  },
  {
   "cell_type": "code",
   "execution_count": 8,
   "id": "faa34952",
   "metadata": {},
   "outputs": [
    {
     "data": {
      "text/plain": [
       "4.997690023099769"
      ]
     },
     "execution_count": 8,
     "metadata": {},
     "output_type": "execute_result"
    }
   ],
   "source": [
    "df['Tenure'].mean()"
   ]
  },
  {
   "cell_type": "code",
   "execution_count": 9,
   "id": "304e4e76",
   "metadata": {},
   "outputs": [
    {
     "data": {
      "text/plain": [
       "5.0"
      ]
     },
     "execution_count": 9,
     "metadata": {},
     "output_type": "execute_result"
    }
   ],
   "source": [
    "df['Tenure'].median()"
   ]
  },
  {
   "cell_type": "markdown",
   "id": "0b665741",
   "metadata": {},
   "source": [
    "### В строках с пропущенными значениями есть другая важная информация, поэтому пропущенные значения в столбце Tenure заполняем медианой. Значение медианы практически равно среднему, также эта величина одинаковая в группах ушедших из банка и оставшихся в банке."
   ]
  },
  {
   "cell_type": "code",
   "execution_count": 10,
   "id": "ea998045",
   "metadata": {},
   "outputs": [
    {
     "data": {
      "text/plain": [
       "0"
      ]
     },
     "execution_count": 10,
     "metadata": {},
     "output_type": "execute_result"
    }
   ],
   "source": [
    "df.loc[df['Tenure'].isna(), 'Tenure'] = df['Tenure'].median()\n",
    "df['Tenure'].isna().sum()"
   ]
  },
  {
   "cell_type": "markdown",
   "id": "a6c7fa2f",
   "metadata": {},
   "source": [
    "#### Вывод: В таблице во всех столбцах, кроме Tenure нет пропусков, распределение данных в целом выглядят адекватно. Пропуски в столбце Tenure заменили на медианное значение. Удалять строки с пропусками нестала, т.к там моного другой важной информации. Ушедших клиентов немного по сравнению с оставшимися, т.е. есть наблюдается дисбаланс классов, более подробно изучим его далее."
   ]
  },
  {
   "cell_type": "markdown",
   "id": "8b7a2b43",
   "metadata": {},
   "source": [
    "### Создадим отдельную таблицу df_sername, в которой будет храниться уникальный идентификатор клиента и соответсвующая ему фамилия, предварительно проверив не повторняются ли уникальные номера в таблице. И удалим столбец Surname из df."
   ]
  },
  {
   "cell_type": "code",
   "execution_count": 11,
   "id": "43c6cf75",
   "metadata": {},
   "outputs": [
    {
     "data": {
      "text/plain": [
       "15695872    1\n",
       "15801062    1\n",
       "15682268    1\n",
       "15647453    1\n",
       "15684319    1\n",
       "           ..\n",
       "15629677    1\n",
       "15773039    1\n",
       "15766896    1\n",
       "15719793    1\n",
       "15812607    1\n",
       "Name: CustomerId, Length: 10000, dtype: int64"
      ]
     },
     "execution_count": 11,
     "metadata": {},
     "output_type": "execute_result"
    }
   ],
   "source": [
    "df['CustomerId'].value_counts()"
   ]
  },
  {
   "cell_type": "code",
   "execution_count": 12,
   "id": "4e239f9a",
   "metadata": {},
   "outputs": [
    {
     "name": "stdout",
     "output_type": "stream",
     "text": [
      "   CustomerId   Surname\n",
      "0    15634602  Hargrave\n",
      "1    15647311      Hill\n",
      "2    15619304      Onio\n",
      "3    15701354      Boni\n",
      "4    15737888  Mitchell\n"
     ]
    },
    {
     "data": {
      "text/html": [
       "<div>\n",
       "<style scoped>\n",
       "    .dataframe tbody tr th:only-of-type {\n",
       "        vertical-align: middle;\n",
       "    }\n",
       "\n",
       "    .dataframe tbody tr th {\n",
       "        vertical-align: top;\n",
       "    }\n",
       "\n",
       "    .dataframe thead th {\n",
       "        text-align: right;\n",
       "    }\n",
       "</style>\n",
       "<table border=\"1\" class=\"dataframe\">\n",
       "  <thead>\n",
       "    <tr style=\"text-align: right;\">\n",
       "      <th></th>\n",
       "      <th>RowNumber</th>\n",
       "      <th>CustomerId</th>\n",
       "      <th>CreditScore</th>\n",
       "      <th>Geography</th>\n",
       "      <th>Gender</th>\n",
       "      <th>Age</th>\n",
       "      <th>Tenure</th>\n",
       "      <th>Balance</th>\n",
       "      <th>NumOfProducts</th>\n",
       "      <th>HasCrCard</th>\n",
       "      <th>IsActiveMember</th>\n",
       "      <th>EstimatedSalary</th>\n",
       "      <th>Exited</th>\n",
       "    </tr>\n",
       "  </thead>\n",
       "  <tbody>\n",
       "    <tr>\n",
       "      <th>0</th>\n",
       "      <td>1</td>\n",
       "      <td>15634602</td>\n",
       "      <td>619</td>\n",
       "      <td>France</td>\n",
       "      <td>Female</td>\n",
       "      <td>42</td>\n",
       "      <td>2.0</td>\n",
       "      <td>0.00</td>\n",
       "      <td>1</td>\n",
       "      <td>1</td>\n",
       "      <td>1</td>\n",
       "      <td>101348.88</td>\n",
       "      <td>1</td>\n",
       "    </tr>\n",
       "    <tr>\n",
       "      <th>1</th>\n",
       "      <td>2</td>\n",
       "      <td>15647311</td>\n",
       "      <td>608</td>\n",
       "      <td>Spain</td>\n",
       "      <td>Female</td>\n",
       "      <td>41</td>\n",
       "      <td>1.0</td>\n",
       "      <td>83807.86</td>\n",
       "      <td>1</td>\n",
       "      <td>0</td>\n",
       "      <td>1</td>\n",
       "      <td>112542.58</td>\n",
       "      <td>0</td>\n",
       "    </tr>\n",
       "    <tr>\n",
       "      <th>2</th>\n",
       "      <td>3</td>\n",
       "      <td>15619304</td>\n",
       "      <td>502</td>\n",
       "      <td>France</td>\n",
       "      <td>Female</td>\n",
       "      <td>42</td>\n",
       "      <td>8.0</td>\n",
       "      <td>159660.80</td>\n",
       "      <td>3</td>\n",
       "      <td>1</td>\n",
       "      <td>0</td>\n",
       "      <td>113931.57</td>\n",
       "      <td>1</td>\n",
       "    </tr>\n",
       "    <tr>\n",
       "      <th>3</th>\n",
       "      <td>4</td>\n",
       "      <td>15701354</td>\n",
       "      <td>699</td>\n",
       "      <td>France</td>\n",
       "      <td>Female</td>\n",
       "      <td>39</td>\n",
       "      <td>1.0</td>\n",
       "      <td>0.00</td>\n",
       "      <td>2</td>\n",
       "      <td>0</td>\n",
       "      <td>0</td>\n",
       "      <td>93826.63</td>\n",
       "      <td>0</td>\n",
       "    </tr>\n",
       "    <tr>\n",
       "      <th>4</th>\n",
       "      <td>5</td>\n",
       "      <td>15737888</td>\n",
       "      <td>850</td>\n",
       "      <td>Spain</td>\n",
       "      <td>Female</td>\n",
       "      <td>43</td>\n",
       "      <td>2.0</td>\n",
       "      <td>125510.82</td>\n",
       "      <td>1</td>\n",
       "      <td>1</td>\n",
       "      <td>1</td>\n",
       "      <td>79084.10</td>\n",
       "      <td>0</td>\n",
       "    </tr>\n",
       "  </tbody>\n",
       "</table>\n",
       "</div>"
      ],
      "text/plain": [
       "   RowNumber  CustomerId  CreditScore Geography  Gender  Age  Tenure  \\\n",
       "0          1    15634602          619    France  Female   42     2.0   \n",
       "1          2    15647311          608     Spain  Female   41     1.0   \n",
       "2          3    15619304          502    France  Female   42     8.0   \n",
       "3          4    15701354          699    France  Female   39     1.0   \n",
       "4          5    15737888          850     Spain  Female   43     2.0   \n",
       "\n",
       "     Balance  NumOfProducts  HasCrCard  IsActiveMember  EstimatedSalary  \\\n",
       "0       0.00              1          1               1        101348.88   \n",
       "1   83807.86              1          0               1        112542.58   \n",
       "2  159660.80              3          1               0        113931.57   \n",
       "3       0.00              2          0               0         93826.63   \n",
       "4  125510.82              1          1               1         79084.10   \n",
       "\n",
       "   Exited  \n",
       "0       1  \n",
       "1       0  \n",
       "2       1  \n",
       "3       0  \n",
       "4       0  "
      ]
     },
     "execution_count": 12,
     "metadata": {},
     "output_type": "execute_result"
    }
   ],
   "source": [
    "df_sername = df[['CustomerId','Surname']]\n",
    "df = df.drop(['Surname'], axis=1)\n",
    "print(df_sername.head())\n",
    "df.head()"
   ]
  },
  {
   "cell_type": "markdown",
   "id": "9d0b0bc6",
   "metadata": {},
   "source": [
    "### Преобразовываем категориальные признаки в численные используя метод прямого кодирования One-Hot-Encodingm, чтобы не попасть в дамми-ловушку удаляем первый столбец (drop_first=True). Определяем размер датафрейма и выводим на экран первые 5 строк."
   ]
  },
  {
   "cell_type": "code",
   "execution_count": 13,
   "id": "2702816c",
   "metadata": {},
   "outputs": [
    {
     "name": "stdout",
     "output_type": "stream",
     "text": [
      "(10000, 14)\n"
     ]
    },
    {
     "data": {
      "text/html": [
       "<div>\n",
       "<style scoped>\n",
       "    .dataframe tbody tr th:only-of-type {\n",
       "        vertical-align: middle;\n",
       "    }\n",
       "\n",
       "    .dataframe tbody tr th {\n",
       "        vertical-align: top;\n",
       "    }\n",
       "\n",
       "    .dataframe thead th {\n",
       "        text-align: right;\n",
       "    }\n",
       "</style>\n",
       "<table border=\"1\" class=\"dataframe\">\n",
       "  <thead>\n",
       "    <tr style=\"text-align: right;\">\n",
       "      <th></th>\n",
       "      <th>RowNumber</th>\n",
       "      <th>CustomerId</th>\n",
       "      <th>CreditScore</th>\n",
       "      <th>Age</th>\n",
       "      <th>Tenure</th>\n",
       "      <th>Balance</th>\n",
       "      <th>NumOfProducts</th>\n",
       "      <th>HasCrCard</th>\n",
       "      <th>IsActiveMember</th>\n",
       "      <th>EstimatedSalary</th>\n",
       "      <th>Exited</th>\n",
       "      <th>Geography_Germany</th>\n",
       "      <th>Geography_Spain</th>\n",
       "      <th>Gender_Male</th>\n",
       "    </tr>\n",
       "  </thead>\n",
       "  <tbody>\n",
       "    <tr>\n",
       "      <th>0</th>\n",
       "      <td>1</td>\n",
       "      <td>15634602</td>\n",
       "      <td>619</td>\n",
       "      <td>42</td>\n",
       "      <td>2.0</td>\n",
       "      <td>0.00</td>\n",
       "      <td>1</td>\n",
       "      <td>1</td>\n",
       "      <td>1</td>\n",
       "      <td>101348.88</td>\n",
       "      <td>1</td>\n",
       "      <td>0</td>\n",
       "      <td>0</td>\n",
       "      <td>0</td>\n",
       "    </tr>\n",
       "    <tr>\n",
       "      <th>1</th>\n",
       "      <td>2</td>\n",
       "      <td>15647311</td>\n",
       "      <td>608</td>\n",
       "      <td>41</td>\n",
       "      <td>1.0</td>\n",
       "      <td>83807.86</td>\n",
       "      <td>1</td>\n",
       "      <td>0</td>\n",
       "      <td>1</td>\n",
       "      <td>112542.58</td>\n",
       "      <td>0</td>\n",
       "      <td>0</td>\n",
       "      <td>1</td>\n",
       "      <td>0</td>\n",
       "    </tr>\n",
       "    <tr>\n",
       "      <th>2</th>\n",
       "      <td>3</td>\n",
       "      <td>15619304</td>\n",
       "      <td>502</td>\n",
       "      <td>42</td>\n",
       "      <td>8.0</td>\n",
       "      <td>159660.80</td>\n",
       "      <td>3</td>\n",
       "      <td>1</td>\n",
       "      <td>0</td>\n",
       "      <td>113931.57</td>\n",
       "      <td>1</td>\n",
       "      <td>0</td>\n",
       "      <td>0</td>\n",
       "      <td>0</td>\n",
       "    </tr>\n",
       "    <tr>\n",
       "      <th>3</th>\n",
       "      <td>4</td>\n",
       "      <td>15701354</td>\n",
       "      <td>699</td>\n",
       "      <td>39</td>\n",
       "      <td>1.0</td>\n",
       "      <td>0.00</td>\n",
       "      <td>2</td>\n",
       "      <td>0</td>\n",
       "      <td>0</td>\n",
       "      <td>93826.63</td>\n",
       "      <td>0</td>\n",
       "      <td>0</td>\n",
       "      <td>0</td>\n",
       "      <td>0</td>\n",
       "    </tr>\n",
       "    <tr>\n",
       "      <th>4</th>\n",
       "      <td>5</td>\n",
       "      <td>15737888</td>\n",
       "      <td>850</td>\n",
       "      <td>43</td>\n",
       "      <td>2.0</td>\n",
       "      <td>125510.82</td>\n",
       "      <td>1</td>\n",
       "      <td>1</td>\n",
       "      <td>1</td>\n",
       "      <td>79084.10</td>\n",
       "      <td>0</td>\n",
       "      <td>0</td>\n",
       "      <td>1</td>\n",
       "      <td>0</td>\n",
       "    </tr>\n",
       "  </tbody>\n",
       "</table>\n",
       "</div>"
      ],
      "text/plain": [
       "   RowNumber  CustomerId  CreditScore  Age  Tenure    Balance  NumOfProducts  \\\n",
       "0          1    15634602          619   42     2.0       0.00              1   \n",
       "1          2    15647311          608   41     1.0   83807.86              1   \n",
       "2          3    15619304          502   42     8.0  159660.80              3   \n",
       "3          4    15701354          699   39     1.0       0.00              2   \n",
       "4          5    15737888          850   43     2.0  125510.82              1   \n",
       "\n",
       "   HasCrCard  IsActiveMember  EstimatedSalary  Exited  Geography_Germany  \\\n",
       "0          1               1        101348.88       1                  0   \n",
       "1          0               1        112542.58       0                  0   \n",
       "2          1               0        113931.57       1                  0   \n",
       "3          0               0         93826.63       0                  0   \n",
       "4          1               1         79084.10       0                  0   \n",
       "\n",
       "   Geography_Spain  Gender_Male  \n",
       "0                0            0  \n",
       "1                1            0  \n",
       "2                0            0  \n",
       "3                0            0  \n",
       "4                1            0  "
      ]
     },
     "execution_count": 13,
     "metadata": {},
     "output_type": "execute_result"
    }
   ],
   "source": [
    "df = pd.get_dummies(df, drop_first=True)\n",
    "print(df.shape)\n",
    "df.head()"
   ]
  },
  {
   "cell_type": "markdown",
   "id": "0fbc6adc",
   "metadata": {},
   "source": [
    "### Разделяем исходные данные (df) на три выборки: обучающую (60%), валидационную (20%) и тестовую(20%) с помощью функции train_test_split из sklearn.model_selection¶"
   ]
  },
  {
   "cell_type": "markdown",
   "id": "86bb1de1",
   "metadata": {},
   "source": [
    "#### Разбиваем датасет df на два датасета features (датасет с признаками) и target (датасет со значениями целевого признака)"
   ]
  },
  {
   "cell_type": "code",
   "execution_count": 14,
   "id": "c9a60be7",
   "metadata": {},
   "outputs": [
    {
     "name": "stdout",
     "output_type": "stream",
     "text": [
      "<class 'pandas.core.frame.DataFrame'>\n",
      "RangeIndex: 10000 entries, 0 to 9999\n",
      "Data columns (total 11 columns):\n",
      " #   Column             Non-Null Count  Dtype  \n",
      "---  ------             --------------  -----  \n",
      " 0   CreditScore        10000 non-null  int64  \n",
      " 1   Age                10000 non-null  int64  \n",
      " 2   Tenure             10000 non-null  float64\n",
      " 3   Balance            10000 non-null  float64\n",
      " 4   NumOfProducts      10000 non-null  int64  \n",
      " 5   HasCrCard          10000 non-null  int64  \n",
      " 6   IsActiveMember     10000 non-null  int64  \n",
      " 7   EstimatedSalary    10000 non-null  float64\n",
      " 8   Geography_Germany  10000 non-null  uint8  \n",
      " 9   Geography_Spain    10000 non-null  uint8  \n",
      " 10  Gender_Male        10000 non-null  uint8  \n",
      "dtypes: float64(3), int64(5), uint8(3)\n",
      "memory usage: 654.4 KB\n",
      "None\n"
     ]
    },
    {
     "data": {
      "text/html": [
       "<div>\n",
       "<style scoped>\n",
       "    .dataframe tbody tr th:only-of-type {\n",
       "        vertical-align: middle;\n",
       "    }\n",
       "\n",
       "    .dataframe tbody tr th {\n",
       "        vertical-align: top;\n",
       "    }\n",
       "\n",
       "    .dataframe thead th {\n",
       "        text-align: right;\n",
       "    }\n",
       "</style>\n",
       "<table border=\"1\" class=\"dataframe\">\n",
       "  <thead>\n",
       "    <tr style=\"text-align: right;\">\n",
       "      <th></th>\n",
       "      <th>CreditScore</th>\n",
       "      <th>Age</th>\n",
       "      <th>Tenure</th>\n",
       "      <th>Balance</th>\n",
       "      <th>NumOfProducts</th>\n",
       "      <th>HasCrCard</th>\n",
       "      <th>IsActiveMember</th>\n",
       "      <th>EstimatedSalary</th>\n",
       "      <th>Geography_Germany</th>\n",
       "      <th>Geography_Spain</th>\n",
       "      <th>Gender_Male</th>\n",
       "    </tr>\n",
       "  </thead>\n",
       "  <tbody>\n",
       "    <tr>\n",
       "      <th>0</th>\n",
       "      <td>619</td>\n",
       "      <td>42</td>\n",
       "      <td>2.0</td>\n",
       "      <td>0.00</td>\n",
       "      <td>1</td>\n",
       "      <td>1</td>\n",
       "      <td>1</td>\n",
       "      <td>101348.88</td>\n",
       "      <td>0</td>\n",
       "      <td>0</td>\n",
       "      <td>0</td>\n",
       "    </tr>\n",
       "    <tr>\n",
       "      <th>1</th>\n",
       "      <td>608</td>\n",
       "      <td>41</td>\n",
       "      <td>1.0</td>\n",
       "      <td>83807.86</td>\n",
       "      <td>1</td>\n",
       "      <td>0</td>\n",
       "      <td>1</td>\n",
       "      <td>112542.58</td>\n",
       "      <td>0</td>\n",
       "      <td>1</td>\n",
       "      <td>0</td>\n",
       "    </tr>\n",
       "    <tr>\n",
       "      <th>2</th>\n",
       "      <td>502</td>\n",
       "      <td>42</td>\n",
       "      <td>8.0</td>\n",
       "      <td>159660.80</td>\n",
       "      <td>3</td>\n",
       "      <td>1</td>\n",
       "      <td>0</td>\n",
       "      <td>113931.57</td>\n",
       "      <td>0</td>\n",
       "      <td>0</td>\n",
       "      <td>0</td>\n",
       "    </tr>\n",
       "    <tr>\n",
       "      <th>3</th>\n",
       "      <td>699</td>\n",
       "      <td>39</td>\n",
       "      <td>1.0</td>\n",
       "      <td>0.00</td>\n",
       "      <td>2</td>\n",
       "      <td>0</td>\n",
       "      <td>0</td>\n",
       "      <td>93826.63</td>\n",
       "      <td>0</td>\n",
       "      <td>0</td>\n",
       "      <td>0</td>\n",
       "    </tr>\n",
       "    <tr>\n",
       "      <th>4</th>\n",
       "      <td>850</td>\n",
       "      <td>43</td>\n",
       "      <td>2.0</td>\n",
       "      <td>125510.82</td>\n",
       "      <td>1</td>\n",
       "      <td>1</td>\n",
       "      <td>1</td>\n",
       "      <td>79084.10</td>\n",
       "      <td>0</td>\n",
       "      <td>1</td>\n",
       "      <td>0</td>\n",
       "    </tr>\n",
       "  </tbody>\n",
       "</table>\n",
       "</div>"
      ],
      "text/plain": [
       "   CreditScore  Age  Tenure    Balance  NumOfProducts  HasCrCard  \\\n",
       "0          619   42     2.0       0.00              1          1   \n",
       "1          608   41     1.0   83807.86              1          0   \n",
       "2          502   42     8.0  159660.80              3          1   \n",
       "3          699   39     1.0       0.00              2          0   \n",
       "4          850   43     2.0  125510.82              1          1   \n",
       "\n",
       "   IsActiveMember  EstimatedSalary  Geography_Germany  Geography_Spain  \\\n",
       "0               1        101348.88                  0                0   \n",
       "1               1        112542.58                  0                1   \n",
       "2               0        113931.57                  0                0   \n",
       "3               0         93826.63                  0                0   \n",
       "4               1         79084.10                  0                1   \n",
       "\n",
       "   Gender_Male  \n",
       "0            0  \n",
       "1            0  \n",
       "2            0  \n",
       "3            0  \n",
       "4            0  "
      ]
     },
     "execution_count": 14,
     "metadata": {},
     "output_type": "execute_result"
    }
   ],
   "source": [
    "features = df.drop(['RowNumber', 'Exited', 'CustomerId'], axis=1)\n",
    "print(features.info())\n",
    "features.head()                "
   ]
  },
  {
   "cell_type": "code",
   "execution_count": 15,
   "id": "6577eedf",
   "metadata": {},
   "outputs": [
    {
     "data": {
      "text/plain": [
       "0    1\n",
       "1    0\n",
       "2    1\n",
       "3    0\n",
       "4    0\n",
       "Name: Exited, dtype: int64"
      ]
     },
     "execution_count": 15,
     "metadata": {},
     "output_type": "execute_result"
    }
   ],
   "source": [
    "target = df['Exited']\n",
    "target.head()"
   ]
  },
  {
   "cell_type": "markdown",
   "id": "4b7c2253",
   "metadata": {},
   "source": [
    "#### Разделяем исходные features и target сначала на две выборки: обучающую и выборку, которую будет потом делить на валидационную и тестовую"
   ]
  },
  {
   "cell_type": "code",
   "execution_count": 16,
   "id": "db8def73",
   "metadata": {},
   "outputs": [
    {
     "name": "stdout",
     "output_type": "stream",
     "text": [
      "(6000, 11)\n"
     ]
    },
    {
     "data": {
      "text/plain": [
       "(6000,)"
      ]
     },
     "execution_count": 16,
     "metadata": {},
     "output_type": "execute_result"
    }
   ],
   "source": [
    "features_train, features_y, target_train, target_y = train_test_split(features, target, test_size=0.4, random_state=12345 )\n",
    "print(features_train.shape)\n",
    "target_train.shape"
   ]
  },
  {
   "cell_type": "markdown",
   "id": "d4a462bd",
   "metadata": {},
   "source": [
    "#### Разделяем выборки features_y и target_y на валидационную и тестовую"
   ]
  },
  {
   "cell_type": "code",
   "execution_count": 17,
   "id": "8b5e654e",
   "metadata": {},
   "outputs": [
    {
     "name": "stdout",
     "output_type": "stream",
     "text": [
      "(2000, 11)\n",
      "(2000, 11)\n",
      "(2000,)\n"
     ]
    },
    {
     "data": {
      "text/plain": [
       "(2000,)"
      ]
     },
     "execution_count": 17,
     "metadata": {},
     "output_type": "execute_result"
    }
   ],
   "source": [
    "features_valid, features_test, target_valid, target_test = train_test_split(features_y, target_y, test_size=0.5, \n",
    "                                                                            random_state=12345 )\n",
    "print(features_valid.shape)\n",
    "print(features_test.shape)\n",
    "print(target_valid.shape)\n",
    "target_test.shape"
   ]
  },
  {
   "cell_type": "markdown",
   "id": "c5f102e6",
   "metadata": {},
   "source": [
    "### Производим масштабирование признаков с помощью StandardScaler "
   ]
  },
  {
   "cell_type": "code",
   "execution_count": 18,
   "id": "3518269b",
   "metadata": {},
   "outputs": [
    {
     "name": "stderr",
     "output_type": "stream",
     "text": [
      "/tmp/ipykernel_115/1091360682.py:4: SettingWithCopyWarning: \n",
      "A value is trying to be set on a copy of a slice from a DataFrame.\n",
      "Try using .loc[row_indexer,col_indexer] = value instead\n",
      "\n",
      "See the caveats in the documentation: https://pandas.pydata.org/pandas-docs/stable/user_guide/indexing.html#returning-a-view-versus-a-copy\n",
      "  features_train[numeric] = scaler.transform(features_train[numeric])\n",
      "/opt/conda/lib/python3.9/site-packages/pandas/core/indexing.py:1738: SettingWithCopyWarning: \n",
      "A value is trying to be set on a copy of a slice from a DataFrame.\n",
      "Try using .loc[row_indexer,col_indexer] = value instead\n",
      "\n",
      "See the caveats in the documentation: https://pandas.pydata.org/pandas-docs/stable/user_guide/indexing.html#returning-a-view-versus-a-copy\n",
      "  self._setitem_single_column(loc, value[:, i].tolist(), pi)\n",
      "/tmp/ipykernel_115/1091360682.py:5: SettingWithCopyWarning: \n",
      "A value is trying to be set on a copy of a slice from a DataFrame.\n",
      "Try using .loc[row_indexer,col_indexer] = value instead\n",
      "\n",
      "See the caveats in the documentation: https://pandas.pydata.org/pandas-docs/stable/user_guide/indexing.html#returning-a-view-versus-a-copy\n",
      "  features_valid[numeric] = scaler.transform(features_valid[numeric])\n",
      "/opt/conda/lib/python3.9/site-packages/pandas/core/indexing.py:1738: SettingWithCopyWarning: \n",
      "A value is trying to be set on a copy of a slice from a DataFrame.\n",
      "Try using .loc[row_indexer,col_indexer] = value instead\n",
      "\n",
      "See the caveats in the documentation: https://pandas.pydata.org/pandas-docs/stable/user_guide/indexing.html#returning-a-view-versus-a-copy\n",
      "  self._setitem_single_column(loc, value[:, i].tolist(), pi)\n",
      "/tmp/ipykernel_115/1091360682.py:6: SettingWithCopyWarning: \n",
      "A value is trying to be set on a copy of a slice from a DataFrame.\n",
      "Try using .loc[row_indexer,col_indexer] = value instead\n",
      "\n",
      "See the caveats in the documentation: https://pandas.pydata.org/pandas-docs/stable/user_guide/indexing.html#returning-a-view-versus-a-copy\n",
      "  features_test[numeric] = scaler.transform(features_test[numeric])\n",
      "/opt/conda/lib/python3.9/site-packages/pandas/core/indexing.py:1738: SettingWithCopyWarning: \n",
      "A value is trying to be set on a copy of a slice from a DataFrame.\n",
      "Try using .loc[row_indexer,col_indexer] = value instead\n",
      "\n",
      "See the caveats in the documentation: https://pandas.pydata.org/pandas-docs/stable/user_guide/indexing.html#returning-a-view-versus-a-copy\n",
      "  self._setitem_single_column(loc, value[:, i].tolist(), pi)\n"
     ]
    },
    {
     "data": {
      "text/html": [
       "<div>\n",
       "<style scoped>\n",
       "    .dataframe tbody tr th:only-of-type {\n",
       "        vertical-align: middle;\n",
       "    }\n",
       "\n",
       "    .dataframe tbody tr th {\n",
       "        vertical-align: top;\n",
       "    }\n",
       "\n",
       "    .dataframe thead th {\n",
       "        text-align: right;\n",
       "    }\n",
       "</style>\n",
       "<table border=\"1\" class=\"dataframe\">\n",
       "  <thead>\n",
       "    <tr style=\"text-align: right;\">\n",
       "      <th></th>\n",
       "      <th>CreditScore</th>\n",
       "      <th>Age</th>\n",
       "      <th>Tenure</th>\n",
       "      <th>Balance</th>\n",
       "      <th>NumOfProducts</th>\n",
       "      <th>HasCrCard</th>\n",
       "      <th>IsActiveMember</th>\n",
       "      <th>EstimatedSalary</th>\n",
       "      <th>Geography_Germany</th>\n",
       "      <th>Geography_Spain</th>\n",
       "      <th>Gender_Male</th>\n",
       "    </tr>\n",
       "  </thead>\n",
       "  <tbody>\n",
       "    <tr>\n",
       "      <th>7479</th>\n",
       "      <td>-0.886751</td>\n",
       "      <td>-0.373192</td>\n",
       "      <td>1.082277</td>\n",
       "      <td>1.232271</td>\n",
       "      <td>-0.891560</td>\n",
       "      <td>0.642466</td>\n",
       "      <td>-1.055187</td>\n",
       "      <td>-0.187705</td>\n",
       "      <td>0</td>\n",
       "      <td>1</td>\n",
       "      <td>1</td>\n",
       "    </tr>\n",
       "    <tr>\n",
       "      <th>3411</th>\n",
       "      <td>0.608663</td>\n",
       "      <td>-0.183385</td>\n",
       "      <td>1.082277</td>\n",
       "      <td>0.600563</td>\n",
       "      <td>-0.891560</td>\n",
       "      <td>-1.556504</td>\n",
       "      <td>-1.055187</td>\n",
       "      <td>-0.333945</td>\n",
       "      <td>0</td>\n",
       "      <td>0</td>\n",
       "      <td>0</td>\n",
       "    </tr>\n",
       "    <tr>\n",
       "      <th>6027</th>\n",
       "      <td>2.052152</td>\n",
       "      <td>0.480939</td>\n",
       "      <td>-0.737696</td>\n",
       "      <td>1.027098</td>\n",
       "      <td>0.830152</td>\n",
       "      <td>-1.556504</td>\n",
       "      <td>0.947699</td>\n",
       "      <td>1.503095</td>\n",
       "      <td>1</td>\n",
       "      <td>0</td>\n",
       "      <td>1</td>\n",
       "    </tr>\n",
       "    <tr>\n",
       "      <th>1247</th>\n",
       "      <td>-1.457915</td>\n",
       "      <td>-1.417129</td>\n",
       "      <td>0.354288</td>\n",
       "      <td>-1.233163</td>\n",
       "      <td>0.830152</td>\n",
       "      <td>0.642466</td>\n",
       "      <td>-1.055187</td>\n",
       "      <td>-1.071061</td>\n",
       "      <td>0</td>\n",
       "      <td>0</td>\n",
       "      <td>1</td>\n",
       "    </tr>\n",
       "    <tr>\n",
       "      <th>3716</th>\n",
       "      <td>0.130961</td>\n",
       "      <td>-1.132419</td>\n",
       "      <td>-1.101690</td>\n",
       "      <td>1.140475</td>\n",
       "      <td>-0.891560</td>\n",
       "      <td>-1.556504</td>\n",
       "      <td>-1.055187</td>\n",
       "      <td>1.524268</td>\n",
       "      <td>1</td>\n",
       "      <td>0</td>\n",
       "      <td>0</td>\n",
       "    </tr>\n",
       "  </tbody>\n",
       "</table>\n",
       "</div>"
      ],
      "text/plain": [
       "      CreditScore       Age    Tenure   Balance  NumOfProducts  HasCrCard  \\\n",
       "7479    -0.886751 -0.373192  1.082277  1.232271      -0.891560   0.642466   \n",
       "3411     0.608663 -0.183385  1.082277  0.600563      -0.891560  -1.556504   \n",
       "6027     2.052152  0.480939 -0.737696  1.027098       0.830152  -1.556504   \n",
       "1247    -1.457915 -1.417129  0.354288 -1.233163       0.830152   0.642466   \n",
       "3716     0.130961 -1.132419 -1.101690  1.140475      -0.891560  -1.556504   \n",
       "\n",
       "      IsActiveMember  EstimatedSalary  Geography_Germany  Geography_Spain  \\\n",
       "7479       -1.055187        -0.187705                  0                1   \n",
       "3411       -1.055187        -0.333945                  0                0   \n",
       "6027        0.947699         1.503095                  1                0   \n",
       "1247       -1.055187        -1.071061                  0                0   \n",
       "3716       -1.055187         1.524268                  1                0   \n",
       "\n",
       "      Gender_Male  \n",
       "7479            1  \n",
       "3411            0  \n",
       "6027            1  \n",
       "1247            1  \n",
       "3716            0  "
      ]
     },
     "metadata": {},
     "output_type": "display_data"
    },
    {
     "data": {
      "text/html": [
       "<div>\n",
       "<style scoped>\n",
       "    .dataframe tbody tr th:only-of-type {\n",
       "        vertical-align: middle;\n",
       "    }\n",
       "\n",
       "    .dataframe tbody tr th {\n",
       "        vertical-align: top;\n",
       "    }\n",
       "\n",
       "    .dataframe thead th {\n",
       "        text-align: right;\n",
       "    }\n",
       "</style>\n",
       "<table border=\"1\" class=\"dataframe\">\n",
       "  <thead>\n",
       "    <tr style=\"text-align: right;\">\n",
       "      <th></th>\n",
       "      <th>CreditScore</th>\n",
       "      <th>Age</th>\n",
       "      <th>Tenure</th>\n",
       "      <th>Balance</th>\n",
       "      <th>NumOfProducts</th>\n",
       "      <th>HasCrCard</th>\n",
       "      <th>IsActiveMember</th>\n",
       "      <th>EstimatedSalary</th>\n",
       "      <th>Geography_Germany</th>\n",
       "      <th>Geography_Spain</th>\n",
       "      <th>Gender_Male</th>\n",
       "    </tr>\n",
       "  </thead>\n",
       "  <tbody>\n",
       "    <tr>\n",
       "      <th>8532</th>\n",
       "      <td>-0.699824</td>\n",
       "      <td>-0.373192</td>\n",
       "      <td>-1.101690</td>\n",
       "      <td>-1.233163</td>\n",
       "      <td>0.830152</td>\n",
       "      <td>0.642466</td>\n",
       "      <td>-1.055187</td>\n",
       "      <td>-0.015173</td>\n",
       "      <td>0</td>\n",
       "      <td>0</td>\n",
       "      <td>0</td>\n",
       "    </tr>\n",
       "    <tr>\n",
       "      <th>5799</th>\n",
       "      <td>-0.284431</td>\n",
       "      <td>0.575842</td>\n",
       "      <td>-0.737696</td>\n",
       "      <td>-1.233163</td>\n",
       "      <td>-0.891560</td>\n",
       "      <td>0.642466</td>\n",
       "      <td>0.947699</td>\n",
       "      <td>1.471724</td>\n",
       "      <td>0</td>\n",
       "      <td>0</td>\n",
       "      <td>0</td>\n",
       "    </tr>\n",
       "    <tr>\n",
       "      <th>5511</th>\n",
       "      <td>0.151731</td>\n",
       "      <td>-0.657902</td>\n",
       "      <td>-1.829679</td>\n",
       "      <td>0.438711</td>\n",
       "      <td>-0.891560</td>\n",
       "      <td>0.642466</td>\n",
       "      <td>-1.055187</td>\n",
       "      <td>-1.367107</td>\n",
       "      <td>1</td>\n",
       "      <td>0</td>\n",
       "      <td>1</td>\n",
       "    </tr>\n",
       "    <tr>\n",
       "      <th>7365</th>\n",
       "      <td>-0.876366</td>\n",
       "      <td>-0.278288</td>\n",
       "      <td>1.810266</td>\n",
       "      <td>1.239884</td>\n",
       "      <td>-0.891560</td>\n",
       "      <td>0.642466</td>\n",
       "      <td>0.947699</td>\n",
       "      <td>-0.786517</td>\n",
       "      <td>0</td>\n",
       "      <td>1</td>\n",
       "      <td>0</td>\n",
       "    </tr>\n",
       "    <tr>\n",
       "      <th>7367</th>\n",
       "      <td>-0.481743</td>\n",
       "      <td>0.291132</td>\n",
       "      <td>1.810266</td>\n",
       "      <td>-1.233163</td>\n",
       "      <td>0.830152</td>\n",
       "      <td>0.642466</td>\n",
       "      <td>-1.055187</td>\n",
       "      <td>1.358533</td>\n",
       "      <td>0</td>\n",
       "      <td>1</td>\n",
       "      <td>1</td>\n",
       "    </tr>\n",
       "  </tbody>\n",
       "</table>\n",
       "</div>"
      ],
      "text/plain": [
       "      CreditScore       Age    Tenure   Balance  NumOfProducts  HasCrCard  \\\n",
       "8532    -0.699824 -0.373192 -1.101690 -1.233163       0.830152   0.642466   \n",
       "5799    -0.284431  0.575842 -0.737696 -1.233163      -0.891560   0.642466   \n",
       "5511     0.151731 -0.657902 -1.829679  0.438711      -0.891560   0.642466   \n",
       "7365    -0.876366 -0.278288  1.810266  1.239884      -0.891560   0.642466   \n",
       "7367    -0.481743  0.291132  1.810266 -1.233163       0.830152   0.642466   \n",
       "\n",
       "      IsActiveMember  EstimatedSalary  Geography_Germany  Geography_Spain  \\\n",
       "8532       -1.055187        -0.015173                  0                0   \n",
       "5799        0.947699         1.471724                  0                0   \n",
       "5511       -1.055187        -1.367107                  1                0   \n",
       "7365        0.947699        -0.786517                  0                1   \n",
       "7367       -1.055187         1.358533                  0                1   \n",
       "\n",
       "      Gender_Male  \n",
       "8532            0  \n",
       "5799            0  \n",
       "5511            1  \n",
       "7365            0  \n",
       "7367            1  "
      ]
     },
     "metadata": {},
     "output_type": "display_data"
    },
    {
     "data": {
      "text/html": [
       "<div>\n",
       "<style scoped>\n",
       "    .dataframe tbody tr th:only-of-type {\n",
       "        vertical-align: middle;\n",
       "    }\n",
       "\n",
       "    .dataframe tbody tr th {\n",
       "        vertical-align: top;\n",
       "    }\n",
       "\n",
       "    .dataframe thead th {\n",
       "        text-align: right;\n",
       "    }\n",
       "</style>\n",
       "<table border=\"1\" class=\"dataframe\">\n",
       "  <thead>\n",
       "    <tr style=\"text-align: right;\">\n",
       "      <th></th>\n",
       "      <th>CreditScore</th>\n",
       "      <th>Age</th>\n",
       "      <th>Tenure</th>\n",
       "      <th>Balance</th>\n",
       "      <th>NumOfProducts</th>\n",
       "      <th>HasCrCard</th>\n",
       "      <th>IsActiveMember</th>\n",
       "      <th>EstimatedSalary</th>\n",
       "      <th>Geography_Germany</th>\n",
       "      <th>Geography_Spain</th>\n",
       "      <th>Gender_Male</th>\n",
       "    </tr>\n",
       "  </thead>\n",
       "  <tbody>\n",
       "    <tr>\n",
       "      <th>7041</th>\n",
       "      <td>-2.226392</td>\n",
       "      <td>-0.088482</td>\n",
       "      <td>-1.101690</td>\n",
       "      <td>-1.233163</td>\n",
       "      <td>0.830152</td>\n",
       "      <td>0.642466</td>\n",
       "      <td>-1.055187</td>\n",
       "      <td>0.647083</td>\n",
       "      <td>0</td>\n",
       "      <td>0</td>\n",
       "      <td>1</td>\n",
       "    </tr>\n",
       "    <tr>\n",
       "      <th>5709</th>\n",
       "      <td>-0.087120</td>\n",
       "      <td>0.006422</td>\n",
       "      <td>1.446272</td>\n",
       "      <td>-1.233163</td>\n",
       "      <td>-0.891560</td>\n",
       "      <td>0.642466</td>\n",
       "      <td>-1.055187</td>\n",
       "      <td>-1.658410</td>\n",
       "      <td>0</td>\n",
       "      <td>0</td>\n",
       "      <td>0</td>\n",
       "    </tr>\n",
       "    <tr>\n",
       "      <th>7117</th>\n",
       "      <td>-0.917905</td>\n",
       "      <td>-0.752805</td>\n",
       "      <td>-0.009707</td>\n",
       "      <td>0.722307</td>\n",
       "      <td>-0.891560</td>\n",
       "      <td>0.642466</td>\n",
       "      <td>0.947699</td>\n",
       "      <td>-1.369334</td>\n",
       "      <td>0</td>\n",
       "      <td>1</td>\n",
       "      <td>1</td>\n",
       "    </tr>\n",
       "    <tr>\n",
       "      <th>7775</th>\n",
       "      <td>-0.253277</td>\n",
       "      <td>0.101325</td>\n",
       "      <td>1.810266</td>\n",
       "      <td>-1.233163</td>\n",
       "      <td>0.830152</td>\n",
       "      <td>0.642466</td>\n",
       "      <td>-1.055187</td>\n",
       "      <td>0.075086</td>\n",
       "      <td>0</td>\n",
       "      <td>1</td>\n",
       "      <td>1</td>\n",
       "    </tr>\n",
       "    <tr>\n",
       "      <th>8735</th>\n",
       "      <td>0.785204</td>\n",
       "      <td>-0.847708</td>\n",
       "      <td>1.810266</td>\n",
       "      <td>0.615625</td>\n",
       "      <td>-0.891560</td>\n",
       "      <td>-1.556504</td>\n",
       "      <td>0.947699</td>\n",
       "      <td>-1.070919</td>\n",
       "      <td>0</td>\n",
       "      <td>0</td>\n",
       "      <td>1</td>\n",
       "    </tr>\n",
       "  </tbody>\n",
       "</table>\n",
       "</div>"
      ],
      "text/plain": [
       "      CreditScore       Age    Tenure   Balance  NumOfProducts  HasCrCard  \\\n",
       "7041    -2.226392 -0.088482 -1.101690 -1.233163       0.830152   0.642466   \n",
       "5709    -0.087120  0.006422  1.446272 -1.233163      -0.891560   0.642466   \n",
       "7117    -0.917905 -0.752805 -0.009707  0.722307      -0.891560   0.642466   \n",
       "7775    -0.253277  0.101325  1.810266 -1.233163       0.830152   0.642466   \n",
       "8735     0.785204 -0.847708  1.810266  0.615625      -0.891560  -1.556504   \n",
       "\n",
       "      IsActiveMember  EstimatedSalary  Geography_Germany  Geography_Spain  \\\n",
       "7041       -1.055187         0.647083                  0                0   \n",
       "5709       -1.055187        -1.658410                  0                0   \n",
       "7117        0.947699        -1.369334                  0                1   \n",
       "7775       -1.055187         0.075086                  0                1   \n",
       "8735        0.947699        -1.070919                  0                0   \n",
       "\n",
       "      Gender_Male  \n",
       "7041            1  \n",
       "5709            0  \n",
       "7117            1  \n",
       "7775            1  \n",
       "8735            1  "
      ]
     },
     "execution_count": 18,
     "metadata": {},
     "output_type": "execute_result"
    }
   ],
   "source": [
    "numeric = ['CreditScore', 'Age', 'Tenure', 'Balance', 'NumOfProducts', 'HasCrCard', 'IsActiveMember', 'EstimatedSalary']\n",
    "scaler = StandardScaler()\n",
    "scaler.fit(features_train[numeric])\n",
    "features_train[numeric] = scaler.transform(features_train[numeric])\n",
    "features_valid[numeric] = scaler.transform(features_valid[numeric])\n",
    "features_test[numeric] = scaler.transform(features_test[numeric])\n",
    "display(features_train.head())\n",
    "display(features_valid.head())\n",
    "features_test.head()\n"
   ]
  },
  {
   "cell_type": "markdown",
   "id": "40702d59",
   "metadata": {},
   "source": [
    "#### Итог: Преобразовали категориальные признаки в численные, используя метод прямого кодирования One-Hot-Encodingm. Разделяем исходные данные (df) на три выборки: обучающую, валидационную и тестовую, предварительно выделив признаки и целевой признак. Провели масштабирование признаков."
   ]
  },
  {
   "cell_type": "markdown",
   "id": "f8fb1ba3",
   "metadata": {},
   "source": [
    "## Исследование задачи"
   ]
  },
  {
   "cell_type": "markdown",
   "id": "c0f6682d",
   "metadata": {},
   "source": [
    "### Исследуем баланс классов, используя метод value_counts() к целевому признаку Exited таблицы df."
   ]
  },
  {
   "cell_type": "code",
   "execution_count": 19,
   "id": "d43b0c7b",
   "metadata": {},
   "outputs": [
    {
     "name": "stdout",
     "output_type": "stream",
     "text": [
      "0    0.7963\n",
      "1    0.2037\n",
      "Name: Exited, dtype: float64\n"
     ]
    },
    {
     "data": {
      "text/plain": [
       "<AxesSubplot:title={'center':'class_frequency'}>"
      ]
     },
     "execution_count": 19,
     "metadata": {},
     "output_type": "execute_result"
    },
    {
     "data": {
      "image/png": "[encoded data removed]",
      "text/plain": [
       "<Figure size 432x288 with 1 Axes>"
      ]
     },
     "metadata": {
      "needs_background": "light"
     },
     "output_type": "display_data"
    }
   ],
   "source": [
    "class_frequency = df['Exited'].value_counts(normalize = True)\n",
    "print(class_frequency)\n",
    "class_frequency.plot(kind='bar', title= 'class_frequency')\n"
   ]
  },
  {
   "cell_type": "markdown",
   "id": "23ec2328",
   "metadata": {},
   "source": [
    "#### Вывод: наблюдается дисбаланс классов."
   ]
  },
  {
   "cell_type": "markdown",
   "id": "8ed57712",
   "metadata": {},
   "source": [
    "### Обучим модель \"Логистическая регрессия\" без учета дисбаланса классов и посчитаем значение F-1 меры."
   ]
  },
  {
   "cell_type": "code",
   "execution_count": 20,
   "id": "7149f6cd",
   "metadata": {},
   "outputs": [
    {
     "name": "stdout",
     "output_type": "stream",
     "text": [
      "0.34378769601930037\n"
     ]
    },
    {
     "data": {
      "text/plain": [
       "0.33108108108108103"
      ]
     },
     "execution_count": 20,
     "metadata": {},
     "output_type": "execute_result"
    }
   ],
   "source": [
    "model = LogisticRegression(random_state = 12345, solver = 'liblinear')\n",
    "model.fit(features_train, target_train)\n",
    "predicted_train = model.predict(features_train)\n",
    "predicted_valid = model.predict(features_valid)\n",
    "print(f1_score(target_train, predicted_train))\n",
    "f1_score(target_valid, predicted_valid )"
   ]
  },
  {
   "cell_type": "markdown",
   "id": "0e4507a6",
   "metadata": {},
   "source": [
    "### Обучим модель \"Решаюшее дерево\" без учета дисбаланса классов и посчитаем значение F-1 меры."
   ]
  },
  {
   "cell_type": "code",
   "execution_count": 21,
   "id": "7bedf975",
   "metadata": {},
   "outputs": [
    {
     "data": {
      "text/plain": [
       "'F1_мера лучшей модели: 0.5696969696969697,глубина дерева: 6'"
      ]
     },
     "execution_count": 21,
     "metadata": {},
     "output_type": "execute_result"
    }
   ],
   "source": [
    "best_model = None\n",
    "best_result = 0\n",
    "best_depth = 0\n",
    "for depth in range (1,11):\n",
    "    model = DecisionTreeClassifier(random_state=12345, max_depth=depth)\n",
    "    model.fit(features_train, target_train)\n",
    "    predictions = model.predict(features_valid)\n",
    "    result = f1_score(target_valid, predictions)\n",
    "    if result > best_result:\n",
    "        best_model = model\n",
    "        best_result = result\n",
    "        best_depth = depth\n",
    "            \n",
    "f'F1_мера лучшей модели: {best_result},глубина дерева: {best_depth}' \n"
   ]
  },
  {
   "cell_type": "markdown",
   "id": "069bbcdb",
   "metadata": {},
   "source": [
    "### Обучим модель \"Случайного леса\" без учета дисбаланса классов и посчитаем значение F-1 меры."
   ]
  },
  {
   "cell_type": "code",
   "execution_count": 22,
   "id": "93f17887",
   "metadata": {},
   "outputs": [
    {
     "data": {
      "text/plain": [
       "'F1_мера лучшей модели: 0.5891238670694864, глубина дерева: 10, число деревьев 10'"
      ]
     },
     "execution_count": 22,
     "metadata": {},
     "output_type": "execute_result"
    }
   ],
   "source": [
    "best_model = None\n",
    "best_result = 0\n",
    "best_depth = 0\n",
    "best_est = 0\n",
    "for est in range (10,101,10):\n",
    "    for depth in range (1,11):\n",
    "        model = RandomForestClassifier(random_state=12345, n_estimators=est, max_depth=depth)\n",
    "        model.fit(features_train, target_train)\n",
    "        predictions = model.predict(features_valid)\n",
    "        result = f1_score(target_valid, predictions)\n",
    "        if result > best_result:\n",
    "            best_model = model\n",
    "            best_result = result\n",
    "            best_depth = depth\n",
    "            best_est = est\n",
    "f'F1_мера лучшей модели: {best_result}, глубина дерева: {best_depth}, число деревьев {best_est}' "
   ]
  },
  {
   "cell_type": "markdown",
   "id": "2c686544",
   "metadata": {},
   "source": [
    "#### Вывод: получили значение f1_меры 0,33 для логистической регрессии и 0,57 для решающего леса,  0.59 для случайного леса на валидационной выборке, модели предсказывают класс 1 плохо. Необходимо при обучении моделей учесть дисбаланс классов."
   ]
  },
  {
   "cell_type": "markdown",
   "id": "831fe350",
   "metadata": {},
   "source": [
    "## Борьба с дисбалансом"
   ]
  },
  {
   "cell_type": "markdown",
   "id": "94b82bb0",
   "metadata": {},
   "source": [
    "### Попробуем при обучении моделей использовать \"взвешивание классов\". Обучим модели логистической регресии, решающего дерева и случайного леса."
   ]
  },
  {
   "cell_type": "markdown",
   "id": "e7f2044a",
   "metadata": {},
   "source": [
    "#### Логистическая регрессия"
   ]
  },
  {
   "cell_type": "code",
   "execution_count": 23,
   "id": "a6daad31",
   "metadata": {},
   "outputs": [
    {
     "name": "stdout",
     "output_type": "stream",
     "text": [
      "F1-мера: 0.4888507718696398\n",
      "AUC-ROC: 0.7636160997828441\n"
     ]
    }
   ],
   "source": [
    "model = LogisticRegression(random_state=12345, solver='liblinear', class_weight='balanced')\n",
    "model.fit(features_train, target_train)\n",
    "predicted_valid = model.predict(features_valid)\n",
    "probabilities_valid = model.predict_proba(features_valid)\n",
    "probabilities_valid = probabilities_valid[:,1]\n",
    "print('F1-мера:', f1_score(target_valid, predicted_valid))\n",
    "print('AUC-ROC:', roc_auc_score(target_valid, probabilities_valid))"
   ]
  },
  {
   "cell_type": "markdown",
   "id": "960d3c3c",
   "metadata": {},
   "source": [
    "#### Значение F1-меры стало больше, но оно не достаточное для выполнения задачи"
   ]
  },
  {
   "cell_type": "markdown",
   "id": "7f2bc3b8",
   "metadata": {},
   "source": [
    "#### Решающее дерево"
   ]
  },
  {
   "cell_type": "code",
   "execution_count": 24,
   "id": "defa3772",
   "metadata": {},
   "outputs": [
    {
     "data": {
      "text/plain": [
       "'F1_мера лучшей модели: 0.5987261146496814, AUC-ROC лучшей модели:0.8353985325340705, глубина дерева: 5, best_min_samples:2'"
      ]
     },
     "execution_count": 24,
     "metadata": {},
     "output_type": "execute_result"
    }
   ],
   "source": [
    "best_model_tree = None\n",
    "best_result_tree = 0\n",
    "best_depth_tree = 0\n",
    "best_min_samples_leaf = 0\n",
    "best_auc_roc_tree = 0\n",
    "for depth in range (1,11):\n",
    "    for leaf in range (1,6):\n",
    "        model_1 = DecisionTreeClassifier(random_state=12345, max_depth=depth, min_samples_split=2, min_samples_leaf=leaf,\n",
    "                                         class_weight = 'balanced')\n",
    "        model_1.fit(features_train, target_train)\n",
    "        predictions = model_1.predict(features_valid)\n",
    "        result = f1_score(target_valid, predictions)\n",
    "        probabilities_valid_tree = model_1.predict_proba(features_valid)\n",
    "        probabilities_valid_tree = probabilities_valid_tree[:,1]\n",
    "        auc_roc_tree = roc_auc_score(target_valid, probabilities_valid_tree)\n",
    "        if result > best_result_tree:\n",
    "            best_model_tree = model_1\n",
    "            best_result_tree = result\n",
    "            best_depth_tree = depth\n",
    "            best_min_samples_leaf = leaf\n",
    "            best_auc_roc_tree = auc_roc_tree\n",
    "f'F1_мера лучшей модели: {best_result_tree}, AUC-ROC лучшей модели:{best_auc_roc_tree}, глубина дерева: {best_depth_tree}, best_min_samples:{best_min_samples_leaf}' "
   ]
  },
  {
   "cell_type": "markdown",
   "id": "53136d2a",
   "metadata": {},
   "source": [
    "#### Значение F1-меры подходит, но может быть недостаточным при проверке на тестовой выборке. "
   ]
  },
  {
   "cell_type": "markdown",
   "id": "d3f4f146",
   "metadata": {},
   "source": [
    "#### Случайный лес "
   ]
  },
  {
   "cell_type": "code",
   "execution_count": 25,
   "id": "755e596a",
   "metadata": {},
   "outputs": [
    {
     "data": {
      "text/plain": [
       "'F1_мера лучшей модели: 0.6298850574712643, AUC-ROC лучшей модели:0.8554279907330675, глубина дерева: 9, число деревьев 90'"
      ]
     },
     "execution_count": 25,
     "metadata": {},
     "output_type": "execute_result"
    }
   ],
   "source": [
    "best_model_forest = None\n",
    "best_result_forest = 0\n",
    "best_depth_forest = 0\n",
    "best_est = 0\n",
    "best_auc_roc_forest = 0\n",
    "for est in range (10,101,10):\n",
    "    for depths in range (1,11):\n",
    "        model_2 = RandomForestClassifier(random_state=12345, n_estimators=est, max_depth=depths, class_weight = 'balanced')\n",
    "        model_2.fit(features_train, target_train)\n",
    "        predictions_forest = model_2.predict(features_valid)\n",
    "        result_2 = f1_score(target_valid, predictions_forest)\n",
    "        probabilities_valid_forest = model_2.predict_proba(features_valid)\n",
    "        probabilities_valid_forest = probabilities_valid_forest[:,1]\n",
    "        auc_roc_forest = roc_auc_score(target_valid, probabilities_valid_forest)\n",
    "        if result_2 > best_result_forest:\n",
    "            best_model_forest = model_2\n",
    "            best_result_forest = result_2\n",
    "            best_depth_forest = depths\n",
    "            best_est = est\n",
    "            best_auc_roc_forest = auc_roc_forest\n",
    "f'F1_мера лучшей модели: {best_result_forest}, AUC-ROC лучшей модели:{best_auc_roc_forest}, глубина дерева: {best_depth_forest}, число деревьев {best_est}' "
   ]
  },
  {
   "cell_type": "markdown",
   "id": "2c539e95",
   "metadata": {},
   "source": [
    "#### Значение F1-меры подходит, будем проверять данную модель на тестовой выборке"
   ]
  },
  {
   "cell_type": "markdown",
   "id": "23816f9d",
   "metadata": {},
   "source": [
    "### Попробуем использовать технику upsampling при обучении моделей"
   ]
  },
  {
   "cell_type": "markdown",
   "id": "eba5da6d",
   "metadata": {},
   "source": [
    "#### Разделяем обучающую выборку на отрицательные и положительные ответы"
   ]
  },
  {
   "cell_type": "code",
   "execution_count": 26,
   "id": "52aa8341",
   "metadata": {},
   "outputs": [
    {
     "name": "stdout",
     "output_type": "stream",
     "text": [
      "(4804,)\n"
     ]
    },
    {
     "data": {
      "text/plain": [
       "(1196,)"
      ]
     },
     "execution_count": 26,
     "metadata": {},
     "output_type": "execute_result"
    }
   ],
   "source": [
    "features_zero = features_train[target_train == 0]\n",
    "features_ones = features_train[target_train == 1]\n",
    "target_zero = target_train[target_train == 0]\n",
    "target_ones = target_train[target_train == 1]\n",
    "print(target_zero.shape)\n",
    "target_ones.shape"
   ]
  },
  {
   "cell_type": "markdown",
   "id": "6966e96e",
   "metadata": {},
   "source": [
    "#### Преобразуем объекты положительного класса  и объеденим их с объектами отрицательного класса, используя функцию pd.concat()"
   ]
  },
  {
   "cell_type": "code",
   "execution_count": 27,
   "id": "06881e34",
   "metadata": {},
   "outputs": [
    {
     "name": "stdout",
     "output_type": "stream",
     "text": [
      "(9588, 11)\n",
      "0    4804\n",
      "1    4784\n",
      "Name: Exited, dtype: int64\n"
     ]
    },
    {
     "data": {
      "text/plain": [
       "(9588,)"
      ]
     },
     "execution_count": 27,
     "metadata": {},
     "output_type": "execute_result"
    }
   ],
   "source": [
    "repeat = 4\n",
    "features_upsampled = pd.concat([features_zero] + [features_ones]*repeat)\n",
    "target_upsampled = pd.concat([target_zero] + [target_ones]*repeat)\n",
    "features_upsampled, target_upsampled = shuffle(features_upsampled, target_upsampled, random_state=12345)\n",
    "print(features_upsampled.shape)\n",
    "print(target_upsampled.value_counts())\n",
    "target_upsampled.shape\n"
   ]
  },
  {
   "cell_type": "markdown",
   "id": "ae598657",
   "metadata": {},
   "source": [
    "#### Обучаем модель логистической регресии на обучающей выборке features_upsampled"
   ]
  },
  {
   "cell_type": "code",
   "execution_count": 28,
   "id": "cb2c4bef",
   "metadata": {},
   "outputs": [
    {
     "name": "stdout",
     "output_type": "stream",
     "text": [
      "F1-мера обучающая выборка: 0.7115970980969404\n",
      "F1-мера валидационная выборка: 0.4888507718696398\n",
      "AUC-ROC валидационная выборка: 0.76357526963023\n"
     ]
    }
   ],
   "source": [
    "model_logistic = LogisticRegression(random_state=12345, solver='liblinear')\n",
    "model_logistic.fit(features_upsampled, target_upsampled)\n",
    "predicted_upsampled_logistic = model_logistic.predict(features_upsampled)\n",
    "predicted_valid_logistic = model_logistic.predict(features_valid)\n",
    "probabilities_valid = model_logistic.predict_proba(features_valid)\n",
    "probabilities_valid = probabilities_valid[:,1]\n",
    "print('F1-мера обучающая выборка:', f1_score(target_upsampled, predicted_upsampled_logistic))\n",
    "print('F1-мера валидационная выборка:', f1_score(target_valid, predicted_valid))\n",
    "print('AUC-ROC валидационная выборка:', roc_auc_score(target_valid, probabilities_valid))"
   ]
  },
  {
   "cell_type": "markdown",
   "id": "5a7cfe61",
   "metadata": {},
   "source": [
    "#### Значение F1-меры  не достаточное для выполнения задачи"
   ]
  },
  {
   "cell_type": "markdown",
   "id": "8e87ad64",
   "metadata": {},
   "source": [
    "#### Обучаем модель решающее дерево на обучающей выборке features_upsampled"
   ]
  },
  {
   "cell_type": "code",
   "execution_count": 29,
   "id": "0187c895",
   "metadata": {},
   "outputs": [
    {
     "data": {
      "text/plain": [
       "'F1_мера лучшей модели: 0.5987261146496814, AUC-ROC лучшей модели:0.7824660202396578, глубина дерева: 5'"
      ]
     },
     "execution_count": 29,
     "metadata": {},
     "output_type": "execute_result"
    }
   ],
   "source": [
    "best_model_tree_up = None\n",
    "best_depth_tree_up = 0\n",
    "best_result_tree_up = 0\n",
    "best_auc_roc_tree_up = 0 \n",
    "for depth_up in range (1,11):\n",
    "    model_tree_up =  DecisionTreeClassifier(random_state=12345, max_depth=depth_up, min_samples_split=2, min_samples_leaf=7)\n",
    "    model_tree_up.fit(features_upsampled, target_upsampled)\n",
    "    predicted_valid_tree_up = model_tree_up.predict(features_valid)\n",
    "    result_tree_up = f1_score(target_valid, predicted_valid_tree_up)\n",
    "    probabilities_valid_tree_up = model_tree_up.predict_proba(features_valid)\n",
    "    probabilities_valid_tree_up = probabilities_valid_tree_up[:,1]\n",
    "    auc_roc_tree_up = roc_auc_score(target_valid, probabilities_valid_tree_up)\n",
    "    if result_tree_up > best_result_tree_up:\n",
    "        best_model_tree_up = model_tree_up\n",
    "        best_depth_tree_up = depth_up\n",
    "        best_result_tree_up = result_tree_up\n",
    "        best_auc_roc_tree_up = auc_roc_tree_up \n",
    "f'F1_мера лучшей модели: {best_result_tree_up}, AUC-ROC лучшей модели:{auc_roc_tree_up}, глубина дерева: {best_depth_tree_up}'         \n",
    "        "
   ]
  },
  {
   "cell_type": "markdown",
   "id": "ad02a4be",
   "metadata": {},
   "source": [
    "#### Значение F1-меры подходит, но может быть недостаточным при проверке на тестовой выборке. "
   ]
  },
  {
   "cell_type": "markdown",
   "id": "2ed61122",
   "metadata": {},
   "source": [
    "#### Обучаем модель случайный лес на обучающей выборке features_upsampled.  Сначала подбираем глубину дерева, потом количество деревьев."
   ]
  },
  {
   "cell_type": "code",
   "execution_count": 30,
   "id": "c9e91f16",
   "metadata": {},
   "outputs": [
    {
     "data": {
      "text/plain": [
       "'F1_мера лучшей модели: 0.62217659137577, глубина дерева: 8'"
      ]
     },
     "execution_count": 30,
     "metadata": {},
     "output_type": "execute_result"
    }
   ],
   "source": [
    "best_model_forest_up = None\n",
    "best_result_forest_up = 0\n",
    "best_depth_forest_up = 0\n",
    "for i in range (1,13):\n",
    "    model_forest_up = RandomForestClassifier(random_state=12345,  max_depth=i, n_estimators=20)\n",
    "    model_forest_up.fit(features_upsampled, target_upsampled)\n",
    "    predictions_forest_up = model_forest_up.predict(features_valid)\n",
    "    result_forest_up = f1_score(target_valid, predictions_forest_up)\n",
    "    if  result_forest_up > best_result_forest_up:\n",
    "        best_result_forest_up = result_forest_up\n",
    "        best_model_forest_up = model_forest_up\n",
    "        best_depth_forest_up = i\n",
    "f'F1_мера лучшей модели: {best_result_forest_up}, глубина дерева: {best_depth_forest_up}'     \n",
    "   \n",
    "        \n",
    "    "
   ]
  },
  {
   "cell_type": "code",
   "execution_count": 31,
   "id": "b00ad7f4",
   "metadata": {},
   "outputs": [
    {
     "data": {
      "text/plain": [
       "'F1_мера валидационной выборки: 0.6239669421487604, AUC-ROC валидационной выборки:0.8528783745365022'"
      ]
     },
     "execution_count": 31,
     "metadata": {},
     "output_type": "execute_result"
    }
   ],
   "source": [
    "model_forest_up = RandomForestClassifier(random_state=12345,  max_depth=8, n_estimators=30)\n",
    "model_forest_up.fit(features_upsampled, target_upsampled)\n",
    "predictions_forest_up = model_forest_up.predict(features_valid)\n",
    "result_forest_up = f1_score(target_valid, predictions_forest_up)\n",
    "probabilities_valid_forest_up = model_forest_up.predict_proba(features_valid)\n",
    "probabilities_valid_forest_up = probabilities_valid_forest_up[:,1]\n",
    "auc_roc_forest_up = roc_auc_score(target_valid, probabilities_valid_forest_up)\n",
    "f'F1_мера валидационной выборки: {result_forest_up}, AUC-ROC валидационной выборки:{auc_roc_forest_up}'"
   ]
  },
  {
   "cell_type": "markdown",
   "id": "9bbdaef5",
   "metadata": {},
   "source": [
    "#### Значение F1-меры подходит, будем проверять данную модель на тестовой выборке¶"
   ]
  },
  {
   "cell_type": "markdown",
   "id": "afca2dd2",
   "metadata": {},
   "source": [
    "#### Итог: \n",
    "Для борьбы с дисбалансом классов были использованы две техники: взвешивание классов и upsampling. В каждой техники были обучены три вида моделей: логистическая регрессия, решающее дерево и случайный лес, также были замерены метрики качества каждой модели на валидационной выборке F1 - мера и AUC-ROC. По итогом обучения выбираем две модели с наилучшими показателями F1 - мера и AUC-ROC на валидационной выборке для дальнейшей проверки на тестовой выборке. Выбранные модели случайного леса:  best_model_forest (F1_мера : 0.6284403669724771, AUC-ROC: 0.8539475196438401),  model_forest_up (F1_мера : 0.6239669421487604, AUC-ROC :0.8528783745365022)"
   ]
  },
  {
   "cell_type": "markdown",
   "id": "04bba074",
   "metadata": {},
   "source": [
    "## Тестирование модели"
   ]
  },
  {
   "cell_type": "markdown",
   "id": "4c075b6c",
   "metadata": {},
   "source": [
    "### Тестируем модель \"случайный лес\", которую обучали на обучающей выборке, полученной с использованием техники upsamplin, на тестовой выборке. "
   ]
  },
  {
   "cell_type": "code",
   "execution_count": 32,
   "id": "1c29e6c5",
   "metadata": {},
   "outputs": [
    {
     "name": "stdout",
     "output_type": "stream",
     "text": [
      "Полнота: 0.7257683215130024\n",
      "CPU times: user 28.3 ms, sys: 8 ms, total: 36.3 ms\n",
      "Wall time: 41.3 ms\n"
     ]
    },
    {
     "data": {
      "text/plain": [
       "'F1_мера тестовой выборки: 0.6133866133866135, AUC-ROC тестовой выборки:0.8555985794615567'"
      ]
     },
     "execution_count": 32,
     "metadata": {},
     "output_type": "execute_result"
    }
   ],
   "source": [
    "%%time\n",
    "\n",
    "predictions_forest_up_test = model_forest_up.predict(features_test)\n",
    "result_forest_up_test = f1_score(target_test, predictions_forest_up_test)\n",
    "probabilities_valid_forest_up_test = model_forest_up.predict_proba(features_test)\n",
    "probabilities_valid_forest_up_test = probabilities_valid_forest_up_test[:,1]\n",
    "auc_roc_forest_up_test = roc_auc_score(target_test, probabilities_valid_forest_up_test)\n",
    "print('Полнота:', recall_score(target_test, predictions_forest_up_test))\n",
    "f'F1_мера тестовой выборки: {result_forest_up_test}, AUC-ROC тестовой выборки:{auc_roc_forest_up_test}'"
   ]
  },
  {
   "cell_type": "markdown",
   "id": "363cd06c",
   "metadata": {},
   "source": [
    "### Тестируем модель \"случайный лес\", которую обучали c  учетом \"взвешивание классов\""
   ]
  },
  {
   "cell_type": "code",
   "execution_count": 33,
   "id": "419de7e9",
   "metadata": {},
   "outputs": [
    {
     "name": "stdout",
     "output_type": "stream",
     "text": [
      "Полнота: 0.6359338061465721\n",
      "CPU times: user 81.5 ms, sys: 0 ns, total: 81.5 ms\n",
      "Wall time: 90.6 ms\n"
     ]
    },
    {
     "data": {
      "text/plain": [
       "'F1_мера тестовой выборки: 0.6106696935300795, AUC-ROC тестовой выборки:0.8561187639696525'"
      ]
     },
     "execution_count": 33,
     "metadata": {},
     "output_type": "execute_result"
    }
   ],
   "source": [
    "%%time\n",
    "\n",
    "predictions_forest_test = best_model_forest.predict(features_test)\n",
    "result_forest_test = f1_score(target_test, predictions_forest_test)\n",
    "probabilities_valid_forest_test = best_model_forest.predict_proba(features_test)\n",
    "probabilities_valid_forest_test = probabilities_valid_forest_test[:,1]\n",
    "auc_roc_forest_up_test = roc_auc_score(target_test, probabilities_valid_forest_test)\n",
    "print('Полнота:', recall_score(target_test, predictions_forest_test))\n",
    "f'F1_мера тестовой выборки: {result_forest_test}, AUC-ROC тестовой выборки:{auc_roc_forest_up_test}'"
   ]
  },
  {
   "cell_type": "markdown",
   "id": "a7a4bbf5",
   "metadata": {},
   "source": [
    "### Проверим модели на адекватность, сравних их с константной моделью."
   ]
  },
  {
   "cell_type": "code",
   "execution_count": 34,
   "id": "d5a41770",
   "metadata": {},
   "outputs": [
    {
     "data": {
      "text/plain": [
       "0.3491539413949649"
      ]
     },
     "execution_count": 34,
     "metadata": {},
     "output_type": "execute_result"
    }
   ],
   "source": [
    "from sklearn.dummy import DummyClassifier\n",
    "\n",
    "model_const = DummyClassifier(strategy=\"constant\", constant=1)\n",
    "model_const.fit(features_train, target_train)\n",
    "f1_score(target_test, model_const.predict(features_test))"
   ]
  },
  {
   "cell_type": "markdown",
   "id": "b010b1fa",
   "metadata": {},
   "source": [
    "Обе модели адекватные, т.к. значение f1 константной модели значительно хуже."
   ]
  },
  {
   "cell_type": "markdown",
   "id": "3a7954ba",
   "metadata": {},
   "source": [
    "#### Проверив результаты работы моделей на тестовой выборке, получили следующие результаты:\n",
    "Качество работы модели \"Случайный лес\", которую обучали c учетом \"взвешивания классов\" чуть ниже,чем качество работы модели\n",
    "\"Случайный лес\", которую обучали на обучающей выборке, полученной с использованием техники upsamplin, F1_мера - 0.610 и \n",
    "0.613 соответсвенно. Поэтому вибираем модель \"Случайный лес\", котрую обучали на обучающей выборке, полученной с \n",
    "использованием техники upsamplin. AUC-ROC данной модели также выше и составляет 0.856 против 0.855."
   ]
  },
  {
   "cell_type": "markdown",
   "id": "c49d86e4",
   "metadata": {},
   "source": [
    "## Итоговый вывод\n",
    "1. Изучив данные о клиентах банка увидели, чтьо во всех столбцах кроме Tenure нет пропусков, распределение значений в столбцах выглядит логичным. Пропуски в столбце Tenure заменили на медианное значение. Ушедших клиентов немного по сравнению с ставшимися, т.е. есть наблюдается дисбаланс классов.\n",
    "2. Преобразовали категориальные признаки в численные, используя метод прямого кодирования One-Hot-Encodingm. Разделили исходные данные (df) на три выборки: обучающую, валидационную и тестовую, предварительно выделив признаки и целевой признак. Провели масштабирование признаков.\n",
    "3. Для борьбы с дисбалансом классов были использованы две техники: взвешивание классов и upsampling. В каждой техники были обучены три вида моделей: логистическая регрессия, решающее дерево и случайный лес, также были замерены метрики качества каждой модели на валидационной выборке F1 - мера и AUC-ROC. По итогом обучения выбрали две модели с наилучшими показателями F1 - мера и AUC-ROC на валидационной выборке для дальнейшей проверки на тестовой выборке. Выбранные модели случайного леса: best_model_forest (F1_мера : 0.6284403669724771, AUC-ROC: 0.8539475196438401), model_forest_up (F1_мера : 0.6239669421487604, AUC-ROC :0.8528783745365022)\n",
    "4. Проверив результаты работы моделей на тестовой выборке, получили следующие результаты:\n",
    "Качество работы модели \"Случайный лес\", которую обучали c учетом \"взвешивания классов\" чуть ниже, чем качество работы модели \"Случайный лес\", которую обучали на обучающей выборке, полученной с использованием техники upsamplin, F1_мера - 0.610 и 0.613 соответсвенно. Поэтому вибираем модель \"Случайный лес\", котрую обучали на обучающей выборке, полученной с использованием техники upsamplin. AUC-ROC данной модели также выше и составляет 0.856 против 0.855."
   ]
  }
 ],
 "metadata": {
  "ExecuteTimeLog": [
   {
    "duration": 1773,
    "start_time": "2023-05-03T12:37:01.796Z"
   },
   {
    "duration": 54,
    "start_time": "2023-05-03T12:37:03.572Z"
   },
   {
    "duration": 12,
    "start_time": "2023-05-03T12:37:03.627Z"
   },
   {
    "duration": 1058,
    "start_time": "2023-05-03T12:37:03.640Z"
   },
   {
    "duration": 24,
    "start_time": "2023-05-03T12:37:04.704Z"
   },
   {
    "duration": 8,
    "start_time": "2023-05-03T12:37:04.730Z"
   },
   {
    "duration": 7,
    "start_time": "2023-05-03T12:37:04.740Z"
   },
   {
    "duration": 12,
    "start_time": "2023-05-03T12:37:04.748Z"
   },
   {
    "duration": 5,
    "start_time": "2023-05-03T12:37:04.792Z"
   },
   {
    "duration": 7,
    "start_time": "2023-05-03T12:37:04.799Z"
   },
   {
    "duration": 9,
    "start_time": "2023-05-03T12:37:04.807Z"
   },
   {
    "duration": 16,
    "start_time": "2023-05-03T12:37:04.817Z"
   },
   {
    "duration": 73,
    "start_time": "2023-05-03T12:37:04.835Z"
   },
   {
    "duration": 59,
    "start_time": "2023-05-03T14:17:30.686Z"
   },
   {
    "duration": 1212,
    "start_time": "2023-05-03T14:17:39.924Z"
   },
   {
    "duration": 97,
    "start_time": "2023-05-03T14:17:41.138Z"
   },
   {
    "duration": 15,
    "start_time": "2023-05-03T14:17:41.237Z"
   },
   {
    "duration": 1182,
    "start_time": "2023-05-03T14:17:41.254Z"
   },
   {
    "duration": 35,
    "start_time": "2023-05-03T14:17:42.440Z"
   },
   {
    "duration": 100,
    "start_time": "2023-05-03T14:17:42.477Z"
   },
   {
    "duration": 10,
    "start_time": "2023-05-03T14:17:42.579Z"
   },
   {
    "duration": 5,
    "start_time": "2023-05-03T14:17:42.590Z"
   },
   {
    "duration": 21,
    "start_time": "2023-05-03T14:17:42.597Z"
   },
   {
    "duration": 25,
    "start_time": "2023-05-03T14:17:42.620Z"
   },
   {
    "duration": 16,
    "start_time": "2023-05-03T14:17:42.646Z"
   },
   {
    "duration": 18,
    "start_time": "2023-05-03T14:17:42.664Z"
   },
   {
    "duration": 26,
    "start_time": "2023-05-03T14:17:42.684Z"
   },
   {
    "duration": 47,
    "start_time": "2023-05-03T14:17:42.713Z"
   },
   {
    "duration": 6,
    "start_time": "2023-05-03T14:17:42.762Z"
   },
   {
    "duration": 11,
    "start_time": "2023-05-03T14:17:42.771Z"
   },
   {
    "duration": 12,
    "start_time": "2023-05-03T14:17:42.784Z"
   },
   {
    "duration": 124,
    "start_time": "2023-05-03T14:17:42.798Z"
   },
   {
    "duration": 288,
    "start_time": "2023-05-03T14:17:42.924Z"
   },
   {
    "duration": 0,
    "start_time": "2023-05-03T14:17:43.214Z"
   },
   {
    "duration": 0,
    "start_time": "2023-05-03T14:17:43.216Z"
   },
   {
    "duration": 0,
    "start_time": "2023-05-03T14:17:43.217Z"
   },
   {
    "duration": 0,
    "start_time": "2023-05-03T14:17:43.219Z"
   },
   {
    "duration": 0,
    "start_time": "2023-05-03T14:17:43.221Z"
   },
   {
    "duration": 0,
    "start_time": "2023-05-03T14:17:43.222Z"
   },
   {
    "duration": 0,
    "start_time": "2023-05-03T14:17:43.224Z"
   },
   {
    "duration": 0,
    "start_time": "2023-05-03T14:17:43.225Z"
   },
   {
    "duration": 0,
    "start_time": "2023-05-03T14:17:43.227Z"
   },
   {
    "duration": 0,
    "start_time": "2023-05-03T14:17:43.260Z"
   },
   {
    "duration": 0,
    "start_time": "2023-05-03T14:17:43.261Z"
   },
   {
    "duration": 0,
    "start_time": "2023-05-03T14:17:43.262Z"
   },
   {
    "duration": 0,
    "start_time": "2023-05-03T14:17:43.265Z"
   },
   {
    "duration": 67,
    "start_time": "2023-05-03T14:18:45.215Z"
   },
   {
    "duration": 120,
    "start_time": "2023-05-03T14:19:11.385Z"
   },
   {
    "duration": 112,
    "start_time": "2023-05-03T14:20:22.583Z"
   },
   {
    "duration": 85,
    "start_time": "2023-05-03T14:28:15.278Z"
   },
   {
    "duration": 51,
    "start_time": "2023-05-03T14:28:19.714Z"
   },
   {
    "duration": 61,
    "start_time": "2023-05-03T14:28:41.214Z"
   },
   {
    "duration": 183,
    "start_time": "2023-05-03T14:29:00.037Z"
   },
   {
    "duration": 58,
    "start_time": "2023-05-03T14:30:12.064Z"
   },
   {
    "duration": 1049,
    "start_time": "2023-05-03T14:30:20.314Z"
   },
   {
    "duration": 1078,
    "start_time": "2023-05-03T14:30:23.080Z"
   },
   {
    "duration": 38,
    "start_time": "2023-05-03T14:36:14.868Z"
   },
   {
    "duration": 22829,
    "start_time": "2023-05-03T14:36:29.432Z"
   },
   {
    "duration": 83,
    "start_time": "2023-05-03T14:44:29.035Z"
   },
   {
    "duration": 59,
    "start_time": "2023-05-03T14:48:13.421Z"
   },
   {
    "duration": 16,
    "start_time": "2023-05-03T14:50:06.751Z"
   },
   {
    "duration": 16,
    "start_time": "2023-05-03T14:51:09.815Z"
   },
   {
    "duration": 58,
    "start_time": "2023-05-03T14:51:22.726Z"
   },
   {
    "duration": 71,
    "start_time": "2023-05-03T14:51:49.715Z"
   },
   {
    "duration": 11,
    "start_time": "2023-05-03T14:52:41.157Z"
   },
   {
    "duration": 38,
    "start_time": "2023-05-03T14:52:59.241Z"
   },
   {
    "duration": 15,
    "start_time": "2023-05-03T14:53:16.615Z"
   },
   {
    "duration": 58,
    "start_time": "2023-05-03T14:53:50.117Z"
   },
   {
    "duration": 6,
    "start_time": "2023-05-03T15:02:38.438Z"
   },
   {
    "duration": 10,
    "start_time": "2023-05-03T15:05:25.179Z"
   },
   {
    "duration": 7,
    "start_time": "2023-05-03T15:05:42.477Z"
   },
   {
    "duration": 1104,
    "start_time": "2023-05-03T15:09:35.219Z"
   },
   {
    "duration": 55,
    "start_time": "2023-05-03T15:09:36.326Z"
   },
   {
    "duration": 13,
    "start_time": "2023-05-03T15:09:36.383Z"
   },
   {
    "duration": 997,
    "start_time": "2023-05-03T15:09:36.398Z"
   },
   {
    "duration": 24,
    "start_time": "2023-05-03T15:09:37.397Z"
   },
   {
    "duration": 8,
    "start_time": "2023-05-03T15:09:37.423Z"
   },
   {
    "duration": 30,
    "start_time": "2023-05-03T15:09:37.433Z"
   },
   {
    "duration": 4,
    "start_time": "2023-05-03T15:09:37.465Z"
   },
   {
    "duration": 13,
    "start_time": "2023-05-03T15:09:37.470Z"
   },
   {
    "duration": 11,
    "start_time": "2023-05-03T15:09:37.486Z"
   },
   {
    "duration": 12,
    "start_time": "2023-05-03T15:09:37.498Z"
   },
   {
    "duration": 17,
    "start_time": "2023-05-03T15:09:37.512Z"
   },
   {
    "duration": 40,
    "start_time": "2023-05-03T15:09:37.530Z"
   },
   {
    "duration": 21,
    "start_time": "2023-05-03T15:09:37.572Z"
   },
   {
    "duration": 5,
    "start_time": "2023-05-03T15:09:37.594Z"
   },
   {
    "duration": 9,
    "start_time": "2023-05-03T15:09:37.601Z"
   },
   {
    "duration": 10,
    "start_time": "2023-05-03T15:09:37.612Z"
   },
   {
    "duration": 95,
    "start_time": "2023-05-03T15:09:37.624Z"
   },
   {
    "duration": 132,
    "start_time": "2023-05-03T15:09:37.721Z"
   },
   {
    "duration": 105,
    "start_time": "2023-05-03T15:09:37.859Z"
   },
   {
    "duration": 286,
    "start_time": "2023-05-03T15:09:37.965Z"
   },
   {
    "duration": 23485,
    "start_time": "2023-05-03T15:09:38.253Z"
   },
   {
    "duration": 129,
    "start_time": "2023-05-03T15:10:01.740Z"
   },
   {
    "duration": 1201,
    "start_time": "2023-05-03T15:10:01.961Z"
   },
   {
    "duration": 24979,
    "start_time": "2023-05-03T15:10:03.163Z"
   },
   {
    "duration": 16,
    "start_time": "2023-05-03T15:10:28.144Z"
   },
   {
    "duration": 11,
    "start_time": "2023-05-03T15:10:28.162Z"
   },
   {
    "duration": 190,
    "start_time": "2023-05-03T15:10:28.176Z"
   },
   {
    "duration": 303,
    "start_time": "2023-05-03T15:10:28.367Z"
   },
   {
    "duration": 1633,
    "start_time": "2023-05-03T15:10:28.672Z"
   },
   {
    "duration": 242,
    "start_time": "2023-05-03T15:10:30.306Z"
   },
   {
    "duration": 46,
    "start_time": "2023-05-03T15:10:30.550Z"
   },
   {
    "duration": 106,
    "start_time": "2023-05-03T15:10:30.598Z"
   },
   {
    "duration": 8,
    "start_time": "2023-05-03T15:10:30.706Z"
   },
   {
    "duration": 4,
    "start_time": "2023-05-03T15:15:24.272Z"
   },
   {
    "duration": 192,
    "start_time": "2023-05-03T15:15:50.513Z"
   },
   {
    "duration": 37,
    "start_time": "2023-05-03T15:17:31.068Z"
   },
   {
    "duration": 40,
    "start_time": "2023-05-03T15:19:44.925Z"
   },
   {
    "duration": 86,
    "start_time": "2023-05-03T15:26:51.143Z"
   },
   {
    "duration": 65,
    "start_time": "2023-05-03T15:27:21.706Z"
   },
   {
    "duration": 817,
    "start_time": "2023-05-03T15:28:19.228Z"
   },
   {
    "duration": 969,
    "start_time": "2023-05-03T15:28:50.742Z"
   },
   {
    "duration": 896,
    "start_time": "2023-05-03T15:29:16.495Z"
   },
   {
    "duration": 910,
    "start_time": "2023-05-03T15:29:18.616Z"
   },
   {
    "duration": 860,
    "start_time": "2023-05-03T15:29:20.625Z"
   },
   {
    "duration": 1195,
    "start_time": "2023-05-03T15:30:00.864Z"
   },
   {
    "duration": 56,
    "start_time": "2023-05-03T15:30:02.061Z"
   },
   {
    "duration": 206,
    "start_time": "2023-05-03T15:30:02.119Z"
   },
   {
    "duration": 1508,
    "start_time": "2023-05-03T15:30:02.326Z"
   },
   {
    "duration": 30,
    "start_time": "2023-05-03T15:30:03.836Z"
   },
   {
    "duration": 94,
    "start_time": "2023-05-03T15:30:03.868Z"
   },
   {
    "duration": 45,
    "start_time": "2023-05-03T15:30:03.964Z"
   },
   {
    "duration": 11,
    "start_time": "2023-05-03T15:30:04.011Z"
   },
   {
    "duration": 28,
    "start_time": "2023-05-03T15:30:04.023Z"
   },
   {
    "duration": 47,
    "start_time": "2023-05-03T15:30:04.053Z"
   },
   {
    "duration": 44,
    "start_time": "2023-05-03T15:30:04.101Z"
   },
   {
    "duration": 49,
    "start_time": "2023-05-03T15:30:04.147Z"
   },
   {
    "duration": 39,
    "start_time": "2023-05-03T15:30:04.198Z"
   },
   {
    "duration": 27,
    "start_time": "2023-05-03T15:30:04.240Z"
   },
   {
    "duration": 15,
    "start_time": "2023-05-03T15:30:04.268Z"
   },
   {
    "duration": 68,
    "start_time": "2023-05-03T15:30:04.285Z"
   },
   {
    "duration": 29,
    "start_time": "2023-05-03T15:30:04.355Z"
   },
   {
    "duration": 93,
    "start_time": "2023-05-03T15:30:04.387Z"
   },
   {
    "duration": 135,
    "start_time": "2023-05-03T15:30:04.481Z"
   },
   {
    "duration": 51,
    "start_time": "2023-05-03T15:30:04.619Z"
   },
   {
    "duration": 301,
    "start_time": "2023-05-03T15:30:04.762Z"
   },
   {
    "duration": 23438,
    "start_time": "2023-05-03T15:30:05.065Z"
   },
   {
    "duration": 63,
    "start_time": "2023-05-03T15:30:28.505Z"
   },
   {
    "duration": 1222,
    "start_time": "2023-05-03T15:30:28.570Z"
   },
   {
    "duration": 25666,
    "start_time": "2023-05-03T15:30:29.794Z"
   },
   {
    "duration": 9,
    "start_time": "2023-05-03T15:30:55.462Z"
   },
   {
    "duration": 23,
    "start_time": "2023-05-03T15:30:55.472Z"
   },
   {
    "duration": 165,
    "start_time": "2023-05-03T15:30:55.497Z"
   },
   {
    "duration": 361,
    "start_time": "2023-05-03T15:30:55.664Z"
   },
   {
    "duration": 1560,
    "start_time": "2023-05-03T15:30:56.026Z"
   },
   {
    "duration": 249,
    "start_time": "2023-05-03T15:30:57.588Z"
   },
   {
    "duration": 47,
    "start_time": "2023-05-03T15:30:57.839Z"
   },
   {
    "duration": 96,
    "start_time": "2023-05-03T15:30:57.888Z"
   },
   {
    "duration": 9,
    "start_time": "2023-05-03T15:30:57.986Z"
   }
  ],
  "kernelspec": {
   "display_name": "Python 3 (ipykernel)",
   "language": "python",
   "name": "python3"
  },
  "language_info": {
   "codemirror_mode": {
    "name": "ipython",
    "version": 3
   },
   "file_extension": ".py",
   "mimetype": "text/x-python",
   "name": "python",
   "nbconvert_exporter": "python",
   "pygments_lexer": "ipython3",
   "version": "3.9.13"
  },
  "toc": {
   "base_numbering": 1,
   "nav_menu": {},
   "number_sections": true,
   "sideBar": true,
   "skip_h1_title": true,
   "title_cell": "Table of Contents",
   "title_sidebar": "Contents",
   "toc_cell": false,
   "toc_position": {},
   "toc_section_display": true,
   "toc_window_display": false
  }
 },
 "nbformat": 4,
 "nbformat_minor": 5
}
